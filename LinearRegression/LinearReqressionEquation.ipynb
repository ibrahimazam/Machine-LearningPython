{
 "cells": [
  {
   "cell_type": "markdown",
   "metadata": {},
   "source": [
    "# Linear Reqression Equation \n",
    "\n",
    "One Varaible or Unvariate\n",
    "Input X\n",
    "\n",
    "OutPut Y \n",
    "\n",
    "Rows m \n",
    "\n",
    "Fetaures n \n",
    "\n",
    "h(x) Predict Value \n",
    "\n",
    "Cost J\n",
    "\n",
    "Theta $\\theta$\n",
    "\n",
    "Hypothesis:     $\\color{red} {h}_{0} {(x)} = \\theta _{0} + \\theta _{1}$\n",
    "\n",
    "Parameters:     $\\color{red} \\theta _{0},\\theta _{1} $\n",
    "\n",
    "Cost Functaion: $\\color{red} J(\\theta _{0},\\theta _{1}) = \\frac{1}{2m} \\sum\\limits _{i=1} ^{m } (h_{0} ( {x} ^ i - y ^i) ^2 $\n",
    "\n",
    "Goal : $\\color{red}  minimize\\ \\theta _{0},\\theta _{1} J(\\theta _{0},\\theta _{1})$\n",
    "\n",
    "The Goal is to minimize h(x) and the actual y\n",
    "\n",
    "Equation $\\color{red} h(x) = 5 + 2x$\n",
    "\n",
    "Theta 0 = 5 \n",
    "\n",
    "theta 1 = 2\n",
    "\n",
    "| -- X -- | -- Y -- | -- h(x) -- | -- h(x)-y -- | -- (h(x)-y) $^{2}$ -- |\n",
    "\n",
    "| -- 1 -- | -- 7 --  | -- 7 --     | -- 0 --             | -- 0 -- |\n",
    "\n",
    "| -- 2 -- | -- 8 --  | -- 9 --     | -- 1 --             | -- 1 -- |\n",
    "\n",
    "| -- 2 -- | -- 7 --  | -- 9 --     | -- 2 --             | -- 4 -- |\n",
    "\n",
    "| -- 3 -- | -- 9 --  | -- 11 --    | -- 2 --             | -- 4 -- |\n",
    "\n",
    "| -- 4 -- | -- 11 -- | -- 13 --    | -- 2 --             | -- 4 -- |\n",
    "\n",
    "| -- 5 -- | -- 10 -- | -- 15 --    | -- 5 --             | -- 25 --|\n",
    "\n",
    "| -- 5 -- | -- 12 -- | -- 15 --    | -- 3 --             | -- 9 -- |\n",
    "\n",
    "J = 1/14 (0+1+4+4+4+25+9)\n",
    "\n",
    "J = 47/14 = 3.3\n",
    "\n",
    "\n"
   ]
  }
 ],
 "metadata": {
  "interpreter": {
   "hash": "9780809c1dcb5ebfb6c99d6eaff53e5915ef1e624894815a228c084387870e35"
  },
  "kernelspec": {
   "display_name": "Python 3.8.5 64-bit ('base': conda)",
   "name": "python3"
  },
  "language_info": {
   "codemirror_mode": {
    "name": "ipython",
    "version": 3
   },
   "file_extension": ".py",
   "mimetype": "text/x-python",
   "name": "python",
   "nbconvert_exporter": "python",
   "pygments_lexer": "ipython3",
   "version": "3.8.5"
  },
  "orig_nbformat": 4
 },
 "nbformat": 4,
 "nbformat_minor": 2
}
