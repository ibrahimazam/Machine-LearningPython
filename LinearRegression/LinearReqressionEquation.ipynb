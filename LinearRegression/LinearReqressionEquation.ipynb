{
 "cells": [
  {
   "cell_type": "markdown",
   "metadata": {},
   "source": [
    "# Linear Reqression Equation \n",
    "\n",
    "One Varaible or Unvariate\n",
    "Input X\n",
    "\n",
    "OutPut Y \n",
    "\n",
    "Rows m \n",
    "\n",
    "Fetaures n \n",
    "\n",
    "h(x) Predict Value \n",
    "\n",
    "Cost J\n",
    "\n",
    "Theta $\\Theta$\n"
   ]
  },
  {
   "cell_type": "markdown",
   "metadata": {},
   "source": [
    "#### the goal is minimize the diffirince between h(x) which is the predicted value and the actual y. \n",
    "#### we will divide in 2m to corrleate the cost value\n",
    "#### the final goal is to find the best value of theta 0,1 which is minimize the cost J or Cost Error\n",
    "\n",
    "Hypothesis:     $\\color{Yellow} {h}_{0} {(x)} = \\theta _{0} + \\theta _{1}$\n",
    "\n",
    "Parameters:     $\\color{Yellow} \\theta _{0},\\theta _{1} $\n",
    "\n",
    "Cost Functaion: $\\color{Yellow} J(\\theta _{0},\\theta _{1}) = \\frac{1}{2m} \\sum\\limits _{i=1} ^{m } (h _\\theta ({x} (^i)) - y (^i)) ^2 $\n",
    "\n",
    "Goal : $\\color{Yellow}  minimize\\ \\theta _{0},\\theta _{1} J(\\theta _{0},\\theta _{1})$"
   ]
  },
  {
   "cell_type": "markdown",
   "metadata": {},
   "source": [
    "The Goal is to minimize h(x) and the actual y\n",
    "\n",
    "Equation $\\color{red} h(x) = 5 + 2x$\n",
    "\n",
    "Theta 0 = 5 \n",
    "\n",
    "theta 1 = 2"
   ]
  },
  {
   "cell_type": "code",
   "execution_count": null,
   "metadata": {},
   "outputs": [],
   "source": [
    "# in oreder to get best fit line we will assume thetas for some values for example \n",
    "# Theta 0 = 5 Theta 1 = 2 \n",
    "# The Equation will be h(x) = 5 + 2x\n",
    "import pandas as pd\n",
    "# intialise data of lists.\n",
    "# Example \n",
    "data = {'X':['1', '2', '2', '3','4','5','5'],\n",
    "        'Y':[7, 8, 7, 9,11,10,12]}\n",
    "# Create DataFrame\n",
    "df = pd.DataFrame(data)\n",
    "# Print the output.\n",
    "print(df)"
   ]
  },
  {
   "cell_type": "markdown",
   "metadata": {},
   "source": [
    "### Here we get the h(x) which is the predicted value\n",
    "### in oreder to get best fit line we will assume thetas for some values for example \n",
    "### Theta 0 = 5 Theta 1 = 2 \n",
    "### The Equation h(x) = 5 + 2x "
   ]
  },
  {
   "cell_type": "code",
   "execution_count": null,
   "metadata": {},
   "outputs": [],
   "source": [
    "import pandas as pd\n",
    "# intialise data of lists.\n",
    "# Example \n",
    "data = {'X':['1', '2', '2', '3','4','5','5'],\n",
    "        'Y':[7, 8, 7, 9,11,10,12],\n",
    "        'h(x)':[7, 9, 9, 11,13,15,15]}\n",
    "# Create DataFrame\n",
    "df = pd.DataFrame(data)\n",
    "# Print the output.\n",
    "print(df)"
   ]
  },
  {
   "cell_type": "markdown",
   "metadata": {},
   "source": [
    "### Here we get the h(x) - y the differnce between actual value and predicted value \n",
    "### in oreder to get best fit line we will assume thetas for some values for example \n",
    "### Theta 0 = 5 Theta 1 = 2 \n",
    "### The Equation h(x) = 5 + 2x "
   ]
  },
  {
   "cell_type": "code",
   "execution_count": null,
   "metadata": {},
   "outputs": [],
   "source": [
    "import pandas as pd\n",
    "# intialise data of lists.\n",
    "# Example \n",
    "data = {'X':['1', '2', '2', '3','4','5','5'],\n",
    "        'Y':[7, 8, 7, 9,11,10,12],\n",
    "        'h(x)':[7, 9, 9, 11,13,15,15],\n",
    "        'h(x)-y':[0, 1, 2, 2, 2, 5, 3]}\n",
    "# Create DataFrame\n",
    "df = pd.DataFrame(data)\n",
    "# Print the output.\n",
    "print(df)"
   ]
  },
  {
   "cell_type": "markdown",
   "metadata": {},
   "source": [
    "### Here we get the (h(x) - y)2 which is the cost Equation  \n",
    "### in oreder to get best fit line we will assume thetas for some values for example \n",
    "### Theta 0 = 5 Theta 1 = 2 \n",
    "### The Equation h(x) = 5 + 2x \n",
    "Cost Functaion: $\\color{Yellow} J(\\theta _{0},\\theta _{1}) = \\frac{1}{2m} \\sum\\limits _{i=1} ^{m } (h _\\theta ({x} (^i)) - y (^i)) ^2 $\n",
    "\n",
    "$\\color{Yellow} 2m = \\ number \\ of \\ rows \\ which \\ is \\ 14 $\n",
    "\n",
    "$\\color{Yellow} J \\ = 1 / 14 \\ (0+1+4+4+4+25+9)$\n",
    "\n",
    "$\\color{green} \\sum\\limits which \\ is \\ the \\ sum \\ of \\ all \\ values \\ 47 $\n",
    "\n",
    "$\\color{Yellow} J \\ = \\ 47/14 = \\ 3.3$\n",
    "\n",
    "$ \\color{Yellow} 3.3 \\  is \\ the \\ cost \\ error $ \n"
   ]
  },
  {
   "cell_type": "code",
   "execution_count": null,
   "metadata": {},
   "outputs": [],
   "source": [
    "import pandas as pd\n",
    "# intialise data of lists.\n",
    "# Example \n",
    "data = {'X':['1', '2', '2', '3','4','5','5'],\n",
    "        'Y':[7, 8, 7, 9,11,10,12],\n",
    "        'h(x)':[7, 9, 9, 11,13,15,15],\n",
    "        'h(x)-y':[0, 1, 2, 2, 2, 5, 3],\n",
    "       '(h(x)-y)2':[0, 1, 4, 4, 4, 25, 9] }\n",
    "# Create DataFrame\n",
    "df = pd.DataFrame(data)\n",
    "# Print the output.\n",
    "print(df)"
   ]
  },
  {
   "cell_type": "code",
   "execution_count": null,
   "metadata": {},
   "outputs": [],
   "source": [
    "# Need of a Linear regression\n",
    "import matplotlib.pyplot as plt\n",
    "import numpy as np\n",
    "# Define the dataset\n",
    "x=  np.array([1,2,2,3,4,5,5])\n",
    "y = np.array([7,8,7,9,11,10,12])\n",
    "n = np.size(x)\n",
    "experience = x #Independent Variable.\n",
    "salary = y #Dependent Variable.\n",
    "# Plot the data points\n",
    "plt.style.use('dark_background')\n",
    "plt.scatter(x,y, color = 'red')\n",
    "plt.xlabel(\"Experience\")\n",
    "plt.ylabel(\"Salary\")\n",
    "plt.show()"
   ]
  }
 ],
 "metadata": {
  "interpreter": {
   "hash": "9780809c1dcb5ebfb6c99d6eaff53e5915ef1e624894815a228c084387870e35"
  },
  "kernelspec": {
   "display_name": "Python 3.8.5 64-bit ('base': conda)",
   "name": "python3"
  },
  "language_info": {
   "codemirror_mode": {
    "name": "ipython",
    "version": 3
   },
   "file_extension": ".py",
   "mimetype": "text/x-python",
   "name": "python",
   "nbconvert_exporter": "python",
   "pygments_lexer": "ipython3",
   "version": "3.8.5"
  },
  "orig_nbformat": 4
 },
 "nbformat": 4,
 "nbformat_minor": 2
}
