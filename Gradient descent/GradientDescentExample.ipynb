{
 "cells": [
  {
   "cell_type": "markdown",
   "metadata": {},
   "source": [
    "### Gradient Descent\n",
    "While we looking for the value of Theta 0 and Theta 1 which is going to minimize the The J Valuse which is the cost function, we will assume some value of Theta. then we will gradually minimize the values until we get the minimum value of J"
   ]
  },
  {
   "cell_type": "markdown",
   "metadata": {},
   "source": [
    "### $\\color{Yellow} \\alpha = $ Decreasing Rate OR learning rate alpha\n",
    "\n",
    "$ \\color{Yellow} \\theta _{0} := \\theta _{0} =\\alpha \\frac{1}{m} \\sum\\limits _{i=1} ^{m } (h _\\theta (x _{i}) -y _{i}) $ \n",
    "\n",
    "$ \\color{Yellow} \\theta _{1} := \\theta _{1} =\\alpha \\frac{1}{m} \\sum\\limits _{i=1} ^{m } ((h _\\theta (x _{i}) -y _{i}) x _{i}$ \n",
    "\n",
    "### Hypothesis:     $\\color{red} {h} _\\theta {(x)} = \\theta _{0} + \\theta _{1} x$\n",
    "\n",
    "### definition: $\\color{red} \\theta _ 0 = y \\ intercept $ \n",
    "### definition: $\\color{red} \\theta _ 1 = b \\ slope $ \n"
   ]
  },
  {
   "cell_type": "code",
   "execution_count": null,
   "metadata": {},
   "outputs": [],
   "source": [
    "# in oreder to get best fit line we will assume thetas for some values for example Theta 0 = 1 Theta 1 = 3 \n",
    "# The Equation will be h(x) = 1 + 3x\n",
    "import pandas as pd\n",
    "# intialise data of lists.\n",
    "# Example \n",
    "data = {'X1':['100', '95', '90', '80','80','70','70','60'],\n",
    "        'Y':[135, 130, 110, 95,90,85,80,80]}\n",
    "# Create DataFrame\n",
    "df = pd.DataFrame(data)\n",
    "# Print the output.\n",
    "print(df)"
   ]
  },
  {
   "cell_type": "code",
   "execution_count": null,
   "metadata": {},
   "outputs": [],
   "source": [
    "# Need of a Linear regression\n",
    "import matplotlib.pyplot as plt\n",
    "import numpy as np\n",
    "# Define the dataset\n",
    "x=  np.array([1,2,2,3,4,5,5])\n",
    "y = np.array([7,8,7,9,11,10,12])\n",
    "n = np.size(x)\n",
    "experience = x #Independent Variable.\n",
    "salary = y #Dependent Variable.\n",
    "# Plot the data points\n",
    "plt.style.use('dark_background')\n",
    "plt.scatter(x,y, color = 'red')\n",
    "plt.xlabel(\"Experience\")\n",
    "plt.ylabel(\"Salary\")\n",
    "plt.show()"
   ]
  },
  {
   "cell_type": "markdown",
   "metadata": {},
   "source": [
    "### Hypothesis:     $\\color{red} {h} _\\theta {(x)} = \\theta _{0} + \\theta _{1} x$\n",
    "\n",
    "$\\color {Yellow} h(x) = 1 + 3 X$"
   ]
  },
  {
   "cell_type": "code",
   "execution_count": null,
   "metadata": {},
   "outputs": [],
   "source": [
    "### Calculate h(x)\n",
    "# in oreder to get best fit line we will assume thetas for some values for example Theta 0 = 1 Theta 1 = 3 \n",
    "# The Equation will be h(x) = 1 + 3x\n",
    "import pandas as pd\n",
    "# intialise data of lists.\n",
    "# Example \n",
    "data = {'X1':['100', '95', '90', '80','80','70','70','60'],\n",
    "        'Y':[135, 130, 110, 95,90,85,80,80],\n",
    "        'h(x)':[301,286,271,241,241,211,211,181] }\n",
    "# Create DataFrame\n",
    "df = pd.DataFrame(data)\n",
    "# Print the output.\n",
    "print(df)"
   ]
  },
  {
   "cell_type": "code",
   "execution_count": null,
   "metadata": {},
   "outputs": [],
   "source": [
    "### Calculate h(x) -y\n",
    "# in oreder to get best fit line we will assume thetas for some values for example Theta 0 = 1 Theta 1 = 3 \n",
    "# The Equation will be h(x) = 1 + 3x\n",
    "import pandas as pd\n",
    "# intialise data of lists.\n",
    "# Example \n",
    "data = {'X1':['100', '95', '90', '80','80','70','70','60'],\n",
    "        'Y':[135, 130, 110, 95,90,85,80,80],\n",
    "        'h(x)':[301,286,271,241,241,211,211,181],\n",
    "         'h(x) -y':[1,1,1,1,6,11,6,1]}\n",
    "# Create DataFrame\n",
    "df = pd.DataFrame(data)\n",
    "# Print the output.\n",
    "print(df)"
   ]
  },
  {
   "cell_type": "markdown",
   "metadata": {},
   "source": [
    "$ \\color{Red} Theta \\ 0 $ \n",
    "\n",
    "$ \\color{Yellow} \\theta _{0} := \\theta _{0} =\\alpha \\frac{1}{m} \\sum\\limits _{i=1} ^{m } (h _\\theta (x _{i}) -y _{i}) $ \n",
    "\n",
    "$\\color {yellow} \\theta _{0} $ = 1 \n",
    "\n",
    "$\\color {yellow} summation \\ of \\ difference  $ = 28\n",
    "\n",
    "$\\color {yellow} \\alpha$ = 0.002\n",
    "\n",
    "$\\color {yellow} m $ = 8\n",
    "\n",
    "### Theta 0 = 1 - ((0.0002 /8) * (28))\n",
    "### Theta 0 = 1 - 0.007 = 0.993\n"
   ]
  },
  {
   "cell_type": "code",
   "execution_count": null,
   "metadata": {},
   "outputs": [],
   "source": [
    "### Calculate h(x) -y\n",
    "# in oreder to get best fit line we will assume thetas for some values for example Theta 0 = 1 Theta 1 = 3 \n",
    "# The Equation will be h(x) = 1 + 3x\n",
    "import pandas as pd\n",
    "# intialise data of lists.\n",
    "# Example \n",
    "data = {'X1':['100', '95', '90', '80','80','70','70','60'],\n",
    "        'Y':[135, 130, 110, 95,90,85,80,80],\n",
    "        'h(x)':[301,286,271,241,241,211,211,181],\n",
    "         'h(x) -y':[1,1,1,1,6,11,6,1],\n",
    "          '(h(x) -y)x':[100,95,90,80,480,770,420,60]}\n",
    "# Create DataFrame\n",
    "df = pd.DataFrame(data)\n",
    "# Print the output.\n",
    "print(df)"
   ]
  },
  {
   "cell_type": "markdown",
   "metadata": {},
   "source": [
    "$ \\color{Red} Theta \\ 1 $ \n",
    "\n",
    "$ \\color{Yellow} \\theta _{1} := \\theta _{1} =\\alpha \\frac{1}{m} \\sum\\limits _{i=1} ^{m } ((h _\\theta (x _{i}) -y _{i}) x _{i} $ \n",
    "\n",
    "$\\color {yellow} \\theta _{1} $ = 3\n",
    "\n",
    "$\\color {yellow} summation \\ of \\ difference  $ = 2095\n",
    "\n",
    "$\\color {yellow} \\alpha$ = 0.002\n",
    "\n",
    "$\\color {yellow} m $ = 8\n",
    "\n",
    "### Theta 1 = 3 - ((0.0002 /8) * (2095))\n",
    "### Theta 1 = 3 - 0.052 = 2.48\n",
    "\n",
    "\n",
    "### Will will repeat until get the optimal values To get Best J\n"
   ]
  }
 ],
 "metadata": {
  "interpreter": {
   "hash": "9780809c1dcb5ebfb6c99d6eaff53e5915ef1e624894815a228c084387870e35"
  },
  "kernelspec": {
   "display_name": "Python 3.8.5 64-bit ('base': conda)",
   "name": "python3"
  },
  "language_info": {
   "codemirror_mode": {
    "name": "ipython",
    "version": 3
   },
   "file_extension": ".py",
   "mimetype": "text/x-python",
   "name": "python",
   "nbconvert_exporter": "python",
   "pygments_lexer": "ipython3",
   "version": "3.8.5"
  },
  "orig_nbformat": 4
 },
 "nbformat": 4,
 "nbformat_minor": 2
}
