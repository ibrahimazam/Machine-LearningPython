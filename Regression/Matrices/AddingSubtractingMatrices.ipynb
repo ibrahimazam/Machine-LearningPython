{
 "cells": [
  {
   "cell_type": "markdown",
   "metadata": {},
   "source": [
    "### Matrices: which is all about to put the numbers in some order that will help to handle that numbers in math opertaion"
   ]
  },
  {
   "cell_type": "code",
   "execution_count": null,
   "metadata": {},
   "outputs": [],
   "source": [
    "import numpy as np\n",
    "a = np.arange(9)\n",
    "b = a.reshape(3,3)\n",
    "print(b)"
   ]
  },
  {
   "cell_type": "code",
   "execution_count": 15,
   "metadata": {},
   "outputs": [
    {
     "name": "stdout",
     "output_type": "stream",
     "text": [
      "         Test  MidTerm  FinalExam\n",
      "Ibrahim    30       79         90\n",
      "bob        45       89         98\n",
      "David      78       80         67\n",
      "Wisal      56       90        100\n"
     ]
    }
   ],
   "source": [
    "import pandas as pd\n",
    "data = {\n",
    "    'Test':[30, 45,78, 56],\n",
    "        'MidTerm':[79, 89, 80, 90],\n",
    "        'FinalExam':[90,98,67,100]}\n",
    "df = pd.DataFrame(data,index=['Ibrahim','bob','David','Wisal'])\n",
    "print(df)"
   ]
  },
  {
   "cell_type": "markdown",
   "metadata": {},
   "source": [
    "Matrice = m X n \n",
    "\n",
    "M = number of rows \n",
    "\n",
    "n = numbers of colums"
   ]
  },
  {
   "cell_type": "code",
   "execution_count": null,
   "metadata": {},
   "outputs": [],
   "source": [
    "# Matrices Types \n",
    "# (4,2) 4 rows and 2 colums\n",
    "import numpy as np\n",
    "a = np.arange(8)\n",
    "b = a.reshape(4,2)\n",
    "print(b)\n",
    "\n",
    "##################\n",
    "c = np.arange(6)\n",
    "e = c.reshape(2,3)\n",
    "print(e)\n",
    "\n",
    "##################\n",
    "i = np.arange(25)\n",
    "h = i.reshape(5,5)\n",
    "print(h)"
   ]
  },
  {
   "cell_type": "code",
   "execution_count": null,
   "metadata": {},
   "outputs": [],
   "source": [
    "## summation matrices the Matrices Should be the same dimension\n",
    "\n",
    "# Matrices Types \n",
    "import numpy as np\n",
    "Matrix1 = np.random.random((2,2))\n",
    "print(Matrix1)\n",
    "\n",
    "##################\n",
    "Matrix2 = np.random.random((2,2))\n",
    "print(Matrix2)\n",
    "\n",
    "##################\n",
    "Matrix3 = np.random.random((2,2))\n",
    "print(Matrix3)\n",
    "\n",
    "print(Matrix1+Matrix2+Matrix3)"
   ]
  }
 ],
 "metadata": {
  "interpreter": {
   "hash": "9780809c1dcb5ebfb6c99d6eaff53e5915ef1e624894815a228c084387870e35"
  },
  "kernelspec": {
   "display_name": "Python 3.8.5 64-bit ('base': conda)",
   "name": "python3"
  },
  "language_info": {
   "codemirror_mode": {
    "name": "ipython",
    "version": 3
   },
   "file_extension": ".py",
   "mimetype": "text/x-python",
   "name": "python",
   "nbconvert_exporter": "python",
   "pygments_lexer": "ipython3",
   "version": "3.8.5"
  },
  "orig_nbformat": 4
 },
 "nbformat": 4,
 "nbformat_minor": 2
}
