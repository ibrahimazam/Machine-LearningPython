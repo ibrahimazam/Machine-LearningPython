{
 "cells": [
  {
   "cell_type": "markdown",
   "metadata": {},
   "source": [
    "<span style=\"color:Orange;\">\n",
    "\n",
    " ### Matrices: \n",
    "\n",
    "<span style=\"color:Turquoise;\">\n",
    "\n",
    "\n",
    " - which is all about to put the numbers in some order that will help to handle that numbers in math opertaion"
   ]
  },
  {
   "cell_type": "code",
   "execution_count": 2,
   "metadata": {},
   "outputs": [
    {
     "name": "stdout",
     "output_type": "stream",
     "text": [
      "[[0 1 2]\n",
      " [3 4 5]\n",
      " [6 7 8]]\n"
     ]
    }
   ],
   "source": [
    "import numpy as np\n",
    "a = np.arange(9)\n",
    "b = a.reshape(3,3)\n",
    "print(b)"
   ]
  },
  {
   "cell_type": "code",
   "execution_count": null,
   "metadata": {},
   "outputs": [],
   "source": [
    "from IPython.display import Image\n",
    "Image(filename='images\\matrice.png') "
   ]
  },
  {
   "cell_type": "code",
   "execution_count": 1,
   "metadata": {},
   "outputs": [
    {
     "name": "stdout",
     "output_type": "stream",
     "text": [
      "matrice = \n",
      " 4 X 3\n",
      "         Test  MidTerm  FinalExam\n",
      "Ibrahim    30       79         90\n",
      "bob        45       89         98\n",
      "David      78       80         67\n",
      "Wisal      56       90        100\n"
     ]
    }
   ],
   "source": [
    "print ('matrice = \\n 4 X 3')\n",
    "import pandas as pd\n",
    "data = {\n",
    "    'Test':[30, 45,78, 56],\n",
    "        'MidTerm':[79, 89, 80, 90],\n",
    "        'FinalExam':[90,98,67,100]}\n",
    "df = pd.DataFrame(data,index=['Ibrahim','bob','David','Wisal'])\n",
    "print(df)\n"
   ]
  },
  {
   "cell_type": "markdown",
   "metadata": {},
   "source": [
    "Matrice = m X n \n",
    "\n",
    "M = number of rows \n",
    "\n",
    "n = numbers of colums"
   ]
  },
  {
   "cell_type": "code",
   "execution_count": 2,
   "metadata": {},
   "outputs": [
    {
     "name": "stdout",
     "output_type": "stream",
     "text": [
      "*********************************\n",
      "Matrice = \n",
      " 4 X 2 \n",
      "[[0 1]\n",
      " [2 3]\n",
      " [4 5]\n",
      " [6 7]]\n",
      "*********************************\n",
      "Matrice = \n",
      " 2 X 3 \n",
      "[[0 1 2]\n",
      " [3 4 5]]\n",
      "*********************************\n",
      "Matrice = \n",
      " 5 X 5 \n",
      "[[ 0  1  2  3  4]\n",
      " [ 5  6  7  8  9]\n",
      " [10 11 12 13 14]\n",
      " [15 16 17 18 19]\n",
      " [20 21 22 23 24]]\n",
      "*********************************\n"
     ]
    }
   ],
   "source": [
    "print ('*********************************')\n",
    "print ('Matrice = \\n 4 X 2 ')\n",
    "# Matrices Types \n",
    "import numpy as np\n",
    "a = np.arange(8)\n",
    "b = a.reshape(4,2)\n",
    "print(b)\n",
    "\n",
    "print ('*********************************')\n",
    "print ('Matrice = \\n 2 X 3 ')\n",
    "##################\n",
    "c = np.arange(6)\n",
    "e = c.reshape(2,3)\n",
    "print(e)\n",
    "\n",
    "print ('*********************************')\n",
    "print ('Matrice = \\n 5 X 5 ')\n",
    "##################\n",
    "i = np.arange(25)\n",
    "h = i.reshape(5,5)\n",
    "print(h)\n",
    "\n",
    "print ('*********************************')"
   ]
  },
  {
   "cell_type": "code",
   "execution_count": null,
   "metadata": {},
   "outputs": [],
   "source": [
    "## summation matrices the Matrices Should be the same dimension\n",
    "\n",
    "# Matrices Types \n",
    "import numpy as np\n",
    "Matrix1 = np.random.random((2,2))\n",
    "print(Matrix1)\n",
    "\n",
    "##################\n",
    "Matrix2 = np.random.random((2,2))\n",
    "print(Matrix2)\n",
    "\n",
    "##################\n",
    "Matrix3 = np.random.random((2,2))\n",
    "print(Matrix3)\n",
    "\n",
    "print(Matrix1+Matrix2+Matrix3)"
   ]
  },
  {
   "cell_type": "code",
   "execution_count": 2,
   "metadata": {},
   "outputs": [
    {
     "data": {
      "image/png": "[encoded data removed]",
      "text/plain": [
       "<IPython.core.display.Image object>"
      ]
     },
     "execution_count": 2,
     "metadata": {},
     "output_type": "execute_result"
    }
   ],
   "source": [
    "from IPython.display import Image\n",
    "Image(filename='images\\sumof2matrices.png') "
   ]
  }
 ],
 "metadata": {
  "interpreter": {
   "hash": "9780809c1dcb5ebfb6c99d6eaff53e5915ef1e624894815a228c084387870e35"
  },
  "kernelspec": {
   "display_name": "Python 3.8.5 64-bit ('base': conda)",
   "name": "python3"
  },
  "language_info": {
   "codemirror_mode": {
    "name": "ipython",
    "version": 3
   },
   "file_extension": ".py",
   "mimetype": "text/x-python",
   "name": "python",
   "nbconvert_exporter": "python",
   "pygments_lexer": "ipython3",
   "version": "3.8.5"
  },
  "orig_nbformat": 4
 },
 "nbformat": 4,
 "nbformat_minor": 2
}
