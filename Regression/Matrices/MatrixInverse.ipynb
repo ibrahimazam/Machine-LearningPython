{
 "cells": [
  {
   "cell_type": "markdown",
   "metadata": {},
   "source": [
    "<span style=\"color:Yellow;\">\n",
    "\n",
    "## Below Zero Matrice \n",
    "\n",
    "<span style=\"color:MediumOrchid;\">\n",
    "\n",
    "- Zero Matrix All the Columns and rows equals to zero. \n",
    "\n",
    "$\\begin{bmatrix} 0&0&0\\\\0&0&0\\\\0&0&0  \\end{bmatrix}$ = Zero Matrix "
   ]
  },
  {
   "cell_type": "markdown",
   "metadata": {},
   "source": [
    "<span style=\"color:Yellow;\">\n",
    "\n",
    "## Below Identity Matrice \n",
    "\n",
    "<span style=\"color:MediumOrchid;\">\n",
    "\n",
    "-  All the Columns and rows equals to zero expect the axis with 1 value. \n",
    "\n",
    "$\\begin{bmatrix} 1&0&0&0\\\\0&1&0&0\\\\0&0&1&0\\\\0&0&0&1   \\end{bmatrix}$ = Identity Matrix \n",
    "$\\begin{bmatrix} 1&0&0\\\\0&1&0\\\\0&0&1\\end{bmatrix}$ = Identity Matrix \n",
    "$\\begin{bmatrix}1&0&\\\\0&1&\\end{bmatrix}$\n",
    "\n",
    "- Wrong Identity Matrix \n",
    "$\\begin{bmatrix} 1&0\\\\0&0\\\\0&1\\\\0&0\\\\  \\end{bmatrix}$\n",
    "\n",
    "\n",
    "- in that we called it square matrix the columns and rows must be the same \n",
    "\n",
    "<span style=\"color:Yellow;\">\n",
    "\n",
    "## Identity Matrix\n",
    "\n",
    "<span style=\"color:MediumOrchid;\">\n",
    "\n",
    "$I _{1} = [1]$, $ I _{2} =\\begin{bmatrix} 1&0\\\\0&1\\end{bmatrix} $,\n",
    "$I _{3} = \\begin{bmatrix} 1&0&0\\\\0&1&0\\\\0&0&1\\end{bmatrix}$, ..., $I_{n}= \\begin{bmatrix} 1&0&0&...&0 \\\\0&1&0&...&0\\\\0&0&1&...& 0\\\\..&..&..&..&..\\\\0&0&0&...&1   \\end{bmatrix} $ "
   ]
  },
  {
   "cell_type": "markdown",
   "metadata": {},
   "source": [
    "<span style=\"color:Yellow;\">\n",
    "\n",
    "## Below Matrix Inverse \n",
    "\n",
    "<span style=\"color:MediumOrchid;\">\n",
    "\n",
    "- In Lenear algebrea:  \n",
    "\n",
    "$\\begin{bmatrix}4&7&\\\\7&6&\\end{bmatrix}$\n",
    "\n",
    "7 Inverse = $\\frac {1}{7}$ = 1\n",
    "\n",
    "$\\frac {3}{5}$ inverse = $\\frac {5}{3}$ = 1\n",
    "\n",
    "X Inverse $X^{-1}$ = 1\n",
    "\n",
    "<span style=\"color:Yellow;\">\n",
    "\n",
    "- What about Matrices \n",
    "\n",
    "<span style=\"color:MediumOrchid;\">\n",
    "\n",
    "$\\begin{bmatrix}4&7&\\\\7&6&\\end{bmatrix}$ = $\\begin{bmatrix}a&b&\\\\ c&d& \\end{bmatrix}$ = $\\begin{bmatrix}1&0&\\\\0&1&\\end{bmatrix}$ = what matrix would be the identity matrix\n",
    "\n",
    "\n",
    "- 0 Dosent have inverse $\\phi$ = phi\n",
    "\n",
    "\n",
    " $A \\\\ A ^{-1}$\n",
    "\n",
    " $A * A^{-1} = I $\n",
    "\n",
    "- Please Check the Calc \n",
    "\n",
    "https://matrixcalc.org/en/"
   ]
  },
  {
   "cell_type": "markdown",
   "metadata": {},
   "source": [
    "<span style=\"color:Yellow;\">\n",
    "\n",
    "## Below Singular Matrix \n",
    "\n",
    "<span style=\"color:MediumOrchid;\">\n",
    "\n",
    "- the Singular matrix dose not applicable to inverse, because his value is 0 \n",
    "- Three reasons: \n",
    "- value of one of rows or columns equal to 0. \n",
    "- two rows or columns equal to each other. \n",
    "$\\begin{bmatrix} \\color{red} 3& \\color{red} 5&\\color{red} 7\\\\ \\color{Yellow} 2& \\color{Yellow}0& \\color{Yellow} 3\\\\ \\color{red} 6&\\color{red} 10&\\color{red} 14\\end{bmatrix}$ = Row Example\n",
    "\n",
    "- 3 * 2 = 6 , 5 * 2 = 10 , 7 * 2 = 14\n",
    "\n",
    "- numbers of rows very lower from the columns. "
   ]
  }
 ],
 "metadata": {
  "interpreter": {
   "hash": "9780809c1dcb5ebfb6c99d6eaff53e5915ef1e624894815a228c084387870e35"
  },
  "kernelspec": {
   "display_name": "Python 3.8.5 64-bit ('base': conda)",
   "name": "python3"
  },
  "language_info": {
   "codemirror_mode": {
    "name": "ipython",
    "version": 3
   },
   "file_extension": ".py",
   "mimetype": "text/x-python",
   "name": "python",
   "nbconvert_exporter": "python",
   "pygments_lexer": "ipython3",
   "version": "3.8.5"
  },
  "orig_nbformat": 4
 },
 "nbformat": 4,
 "nbformat_minor": 2
}
