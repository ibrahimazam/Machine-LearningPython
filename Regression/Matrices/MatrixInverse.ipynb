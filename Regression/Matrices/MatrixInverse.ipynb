{
 "cells": [
  {
   "cell_type": "code",
   "execution_count": null,
   "metadata": {},
   "outputs": [],
   "source": [
    "# Identity Matrix Square Matrix\n",
    "# Below Scalar Matrice \n",
    "# the axis should be ones as below \n",
    "from IPython.display import Image\n",
    "Image(filename='images\\identitymatrix.png') "
   ]
  },
  {
   "cell_type": "code",
   "execution_count": null,
   "metadata": {},
   "outputs": [],
   "source": [
    "# Matrix inverse = idnetity matrix\n",
    "# https://matrixcalc.org/en/\n",
    "from IPython.display import Image\n",
    "Image(filename='images\\matrixinverse.png') "
   ]
  },
  {
   "cell_type": "code",
   "execution_count": null,
   "metadata": {},
   "outputs": [],
   "source": [
    "# Singular matrix coludn't be inverse\n",
    "# the value of some rows or column equal to zero \n",
    "# 1 X 4 = 4 \n",
    "# 2 X 2 = 4 \n",
    "# 4-4 = 0 \n",
    "from IPython.display import Image\n",
    "Image(filename='images\\singularmatrix.png') "
   ]
  }
 ],
 "metadata": {
  "interpreter": {
   "hash": "9780809c1dcb5ebfb6c99d6eaff53e5915ef1e624894815a228c084387870e35"
  },
  "kernelspec": {
   "display_name": "Python 3.8.5 64-bit ('base': conda)",
   "name": "python3"
  },
  "language_info": {
   "codemirror_mode": {
    "name": "ipython",
    "version": 3
   },
   "file_extension": ".py",
   "mimetype": "text/x-python",
   "name": "python",
   "nbconvert_exporter": "python",
   "pygments_lexer": "ipython3",
   "version": "3.8.5"
  },
  "orig_nbformat": 4
 },
 "nbformat": 4,
 "nbformat_minor": 2
}
