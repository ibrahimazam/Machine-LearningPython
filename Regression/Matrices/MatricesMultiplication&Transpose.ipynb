{
 "cells": [
  {
   "cell_type": "markdown",
   "metadata": {},
   "source": [
    "<span style=\"color:Yellow;\">\n",
    "\n",
    "## Below Scalar Matrice \n",
    "\n",
    "<span style=\"color:MediumOrchid;\">\n",
    "\n",
    "$2 * \\begin{bmatrix} 10&6\\\\4&3  \\end{bmatrix}$ = $\\begin{bmatrix} 2*10& 2*6 \\\\ 2*4& 2*3\\end{bmatrix}$\n",
    "\n",
    "\n",
    "$2 * \\begin{bmatrix}1&2&3\\\\4&5&6\\\\7&8&9\\end{bmatrix}$ = \n",
    "$ \\begin{bmatrix} 2*1&2*2&2*3 \\\\ 2*4&2*5&2*6 \\\\ 2*7&2*8&2*9\\end{bmatrix}$ = \n",
    "$\\begin{bmatrix}2&4&6\\\\8&10&12\\\\14&16&18\\end{bmatrix}$"
   ]
  },
  {
   "cell_type": "markdown",
   "metadata": {},
   "source": [
    "<span style=\"color:Yellow;\">\n",
    "\n",
    "## Below Addition Matrice \n",
    "\n",
    "<span style=\"color:MediumOrchid;\">\n",
    "\n",
    "$\\begin{bmatrix} 10&0\\\\-4&5\\end{bmatrix}$ +\n",
    "$\\begin{bmatrix} -6&3\\\\1&-7\\end{bmatrix}$ = \n",
    "$\\begin{bmatrix} 4&3\\\\-3&-2\\end{bmatrix}$"
   ]
  },
  {
   "cell_type": "code",
   "execution_count": null,
   "metadata": {},
   "outputs": [],
   "source": [
    "# Below dot Matrix multiplication \n",
    "# The Coulmn should the same size of thw rows in second matrix\n",
    "# The Answer rows X coulmns in below case 1X4\n",
    "from IPython.display import Image\n",
    "Image(filename='images\\dotmatrixmultiplication.png') "
   ]
  },
  {
   "cell_type": "code",
   "execution_count": null,
   "metadata": {},
   "outputs": [],
   "source": [
    "# Below addition Matrice \n",
    "# A 4 X 2 # B 2 X 3 = 4 X 3\n",
    "from IPython.display import Image\n",
    "Image(filename='images\\dotmatrixmultiplication1.png') "
   ]
  },
  {
   "cell_type": "markdown",
   "metadata": {},
   "source": [
    "<span style=\"color:Yellow;\">\n",
    "\n",
    "## Below Dot Matrix Multiplication \n",
    "\n",
    "<span style=\"color:MediumOrchid;\">\n",
    "\n",
    "- Matrix A = 1 X 3 - Matrix B = 3 X 4\n",
    "- The Column and the number of rows must matched which is 3 X 3 and the resulting is 1 X 4\n",
    "\n",
    "<span style=\"color:Yellow;\">\n",
    "\n",
    "........Matrix 1....................Matrix 2......................The Results\n",
    "\n",
    "<span style=\"color:MediumOrchid;\">\n",
    "\n",
    "$\\begin{bmatrix} 1&3&5&7 \\\\2&4&6&8\\end{bmatrix}$ X \n",
    "$\\begin{bmatrix} 1&8&9\\\\2&7&10 \\\\3&6&11 \\\\4&5&12 \\end{bmatrix}$ = \n",
    "$\\begin{bmatrix} 50&94&178 \\\\60&120&220\\end{bmatrix}$\n",
    "\n",
    ".............2X4.............................4X3.................................2X3\n",
    "\n",
    "\n",
    "- The Calculation \n",
    "- Matrix 1 =  2 X 4 \n",
    "- Matrix 2 =  4 X 3 \n",
    "- The Results 2 X 3\n",
    "- 1 * 1 + 3 * 2 + 5 * 3 +7 * 4 = 50 \n",
    "- 1 * 8 + 3 * 7 + 5 + 6 + 7 * 5 = 94 \n",
    "- 1 * 9 + 3 * 10 + 5 * 11 + 7 * 12 = 178\n",
    "- 2 * 1 + 4 * 2 + 6 * 3 + 8 * 4 = 60\n",
    "- 2 * 8 + 4 * 7 + 6 * 6 + 8 * 5 = 120 \n",
    "- 2 * 9 + 4 * 10 + 6 * 11 + 8 * 12 = 220 "
   ]
  },
  {
   "cell_type": "markdown",
   "metadata": {},
   "source": [
    "<span style=\"color:Yellow;\">\n",
    "\n",
    "## Below transpose matrix\n",
    "\n",
    "<span style=\"color:MediumOrchid;\">\n",
    "\n",
    "\n",
    "$\\begin{bmatrix} 9&0&1\\\\0&11&1 \\\\1&1&4 \\\\1&0&1 \\end{bmatrix}$ => $Transpose ^{T}$\n",
    "$\\begin{bmatrix} 9&0&1&1 \\\\0&11&1&0 \\\\1&1&4&1 \\end{bmatrix}$\n",
    "\n",
    "<span style=\"color:Yellow;\">\n",
    "\n",
    "- Vector\n",
    "- when one of columns is equal to 1 we called it vector \n",
    "\n",
    "<span style=\"color:MediumOrchid;\">\n",
    "\n",
    "$\\begin{bmatrix} 2 & -8 & 7 \\end {bmatrix}$ $\\begin{bmatrix} 2 \\\\ -8 \\\\ 7  \\end{bmatrix}$\n"
   ]
  },
  {
   "cell_type": "code",
   "execution_count": null,
   "metadata": {},
   "outputs": [],
   "source": [
    "# Below transpose matrix\n",
    "from IPython.display import Image\n",
    "Image(filename='images\\Matricetranspose.png') "
   ]
  },
  {
   "cell_type": "code",
   "execution_count": null,
   "metadata": {},
   "outputs": [],
   "source": [
    "# vector = 1 X 3  \n",
    "# when one of Row or column eqaul to one we called it a vector\n",
    "\n",
    "from IPython.display import Image\n",
    "Image(filename='images\\Vector.png') "
   ]
  }
 ],
 "metadata": {
  "interpreter": {
   "hash": "9780809c1dcb5ebfb6c99d6eaff53e5915ef1e624894815a228c084387870e35"
  },
  "kernelspec": {
   "display_name": "Python 3.8.5 64-bit ('base': conda)",
   "name": "python3"
  },
  "language_info": {
   "codemirror_mode": {
    "name": "ipython",
    "version": 3
   },
   "file_extension": ".py",
   "mimetype": "text/x-python",
   "name": "python",
   "nbconvert_exporter": "python",
   "pygments_lexer": "ipython3",
   "version": "3.8.5"
  },
  "orig_nbformat": 4
 },
 "nbformat": 4,
 "nbformat_minor": 2
}
