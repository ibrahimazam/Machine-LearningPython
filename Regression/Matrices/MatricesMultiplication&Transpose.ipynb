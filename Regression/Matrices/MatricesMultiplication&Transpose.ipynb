{
 "cells": [
  {
   "cell_type": "code",
   "execution_count": null,
   "metadata": {},
   "outputs": [],
   "source": [
    "# Below Scalar Matrice \n",
    "from IPython.display import Image\n",
    "Image(filename='images\\Scalar.png') "
   ]
  },
  {
   "cell_type": "code",
   "execution_count": null,
   "metadata": {},
   "outputs": [],
   "source": [
    "# Below Scalar Matrice \n",
    "from IPython.display import Image\n",
    "Image(filename='images\\Scalarmultiplicationofmatrix.png') "
   ]
  },
  {
   "cell_type": "code",
   "execution_count": null,
   "metadata": {},
   "outputs": [],
   "source": [
    "# Below dot Matrix multiplication \n",
    "# The Coulmn should the same size of thw rows in second matrix\n",
    "# The Answer rows X coulmns in below case 1X4\n",
    "from IPython.display import Image\n",
    "Image(filename='images\\dotmatrixmultiplication.png') "
   ]
  },
  {
   "cell_type": "code",
   "execution_count": null,
   "metadata": {},
   "outputs": [],
   "source": [
    "# Below addition Matrice \n",
    "from IPython.display import Image\n",
    "Image(filename='images\\MatriceAddition.png') "
   ]
  },
  {
   "cell_type": "code",
   "execution_count": null,
   "metadata": {},
   "outputs": [],
   "source": [
    "# Below addition Matrice \n",
    "# A 4 X 2 # B 2 X 3 = 4 X 3\n",
    "\n",
    "from IPython.display import Image\n",
    "Image(filename='images\\dotmatrixmultiplication1.png') "
   ]
  },
  {
   "cell_type": "code",
   "execution_count": null,
   "metadata": {},
   "outputs": [],
   "source": [
    "from IPython.display import Image\n",
    "Image(filename='images\\dotmatrixmultiplication2.png') \n"
   ]
  },
  {
   "cell_type": "code",
   "execution_count": null,
   "metadata": {},
   "outputs": [],
   "source": [
    "# Below transpose matrix\n",
    "from IPython.display import Image\n",
    "Image(filename='images\\Matricetranspose.png') "
   ]
  },
  {
   "cell_type": "code",
   "execution_count": null,
   "metadata": {},
   "outputs": [],
   "source": [
    "# vector = 1 X 3  \n",
    "# when one of Row or column eqaul to one we called it a vector\n",
    "\n",
    "from IPython.display import Image\n",
    "Image(filename='images\\Vector.png') "
   ]
  }
 ],
 "metadata": {
  "interpreter": {
   "hash": "9780809c1dcb5ebfb6c99d6eaff53e5915ef1e624894815a228c084387870e35"
  },
  "kernelspec": {
   "display_name": "Python 3.8.5 64-bit ('base': conda)",
   "name": "python3"
  },
  "language_info": {
   "codemirror_mode": {
    "name": "ipython",
    "version": 3
   },
   "file_extension": ".py",
   "mimetype": "text/x-python",
   "name": "python",
   "nbconvert_exporter": "python",
   "pygments_lexer": "ipython3",
   "version": "3.8.5"
  },
  "orig_nbformat": 4
 },
 "nbformat": 4,
 "nbformat_minor": 2
}
