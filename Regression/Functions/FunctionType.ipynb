{
 "cells": [
  {
   "cell_type": "markdown",
   "metadata": {},
   "source": [
    "<span style=\"color:MediumOrchid;\">\n",
    "\n",
    "- quadratic function פונקציה ריבועית (الداله التربيعيه)\n",
    "\n",
    "$f (x) = - X^{2} - 2x + 3$\n",
    "\n",
    "$If \\ X ^{2} postive\\ the\\ function\\ will\\ be\\ positve\\ and\\ if\\ the\\ X ^{-2} the\\ function\\ will\\ be\\ negative$"
   ]
  },
  {
   "cell_type": "code",
   "execution_count": null,
   "metadata": {},
   "outputs": [],
   "source": [
    "#quadratic function\n",
    "#פונקציה ריבועית \n",
    "from IPython.display import Image\n",
    "Image(filename='images\\quadratic function.png') \n"
   ]
  },
  {
   "cell_type": "markdown",
   "metadata": {},
   "source": [
    "<span style=\"color:MediumOrchid;\">\n",
    "\n",
    "- Cubic function פונקציה מעוקבת (الداله التكعيبيه)\n",
    "\n",
    "$f(x) = ax^{3} + bx^{2} + cx + d$"
   ]
  },
  {
   "cell_type": "code",
   "execution_count": null,
   "metadata": {},
   "outputs": [],
   "source": [
    "from IPython.display import Image\n",
    "Image(filename='images\\cubicfunction.png') "
   ]
  },
  {
   "cell_type": "markdown",
   "metadata": {},
   "source": [
    "<span style=\"color:MediumOrchid;\">\n",
    "\n",
    "- Square root function פונקציה מעוקבת (داله الجذر التربيعي)\n",
    "\n",
    "$y = \\sqrt x $"
   ]
  },
  {
   "cell_type": "code",
   "execution_count": null,
   "metadata": {},
   "outputs": [],
   "source": [
    "from IPython.display import Image\n",
    "Image(filename='images\\Squarerootfunction.png') "
   ]
  },
  {
   "cell_type": "markdown",
   "metadata": {},
   "source": [
    "<span style=\"color:MediumOrchid;\">\n",
    "\n",
    "- Cube root function פונקציה שורש (داله الجذر التكعيبي)\n",
    "\n",
    "$ y = ^{3}\\sqrt x $"
   ]
  },
  {
   "cell_type": "code",
   "execution_count": null,
   "metadata": {},
   "outputs": [],
   "source": [
    "from IPython.display import Image\n",
    "Image(filename='images\\cuberootfunctions.png') "
   ]
  },
  {
   "cell_type": "markdown",
   "metadata": {},
   "source": [
    "<span style=\"color:MediumOrchid;\">\n",
    "\n",
    "- Polynimoal regression\n",
    "\n",
    "$h(x) = \\theta _{0} + \\theta _{1} x _{1} + \\theta _{2} x _{2}+ \\theta _{3} x _{3}$\n",
    "\n",
    "$\\theta _{0} + \\theta _{1}(size)  + \\theta _{2}(size) ^{2}  + \\theta _{3}(size) ^{3}$\n",
    "\n",
    "$x_{1} = (size)$\n",
    "\n",
    "$x_{2} = (size)^{2}$"
   ]
  },
  {
   "cell_type": "code",
   "execution_count": null,
   "metadata": {},
   "outputs": [],
   "source": [
    "from IPython.display import Image\n",
    "Image(filename='images\\PolynimialRegression.png') "
   ]
  },
  {
   "cell_type": "markdown",
   "metadata": {},
   "source": [
    "<span style=\"color:Yellow;\">\n",
    "\n",
    "- How do we choose the right function: \n",
    "\n",
    "- you will need first of all tou need to put the point on plot in order to unserstand how the point lokks like.\n"
   ]
  }
 ],
 "metadata": {
  "interpreter": {
   "hash": "9780809c1dcb5ebfb6c99d6eaff53e5915ef1e624894815a228c084387870e35"
  },
  "kernelspec": {
   "display_name": "Python 3.8.5 64-bit ('base': conda)",
   "name": "python3"
  },
  "language_info": {
   "codemirror_mode": {
    "name": "ipython",
    "version": 3
   },
   "file_extension": ".py",
   "mimetype": "text/x-python",
   "name": "python",
   "nbconvert_exporter": "python",
   "pygments_lexer": "ipython3",
   "version": "3.8.5"
  },
  "orig_nbformat": 4
 },
 "nbformat": 4,
 "nbformat_minor": 2
}
