{
 "cells": [
  {
   "cell_type": "markdown",
   "metadata": {},
   "source": [
    "#https://www.htmlcodes.ws/color/html-color-code-generator.cfm?colorName=Pink\n",
    "\n",
    "<span style=\"color:MediumOrchid;\">\n",
    "\n",
    "### Gradient Descent\n",
    "- While we looking for the value of Theta 0 and Theta 1 which is going to minimize the The J Valuse which is the cost function, we will assume some value of Theta. then we will gradually minimize the values until we get the minimum value of J -\n",
    "\n",
    "- First of all := mean overwrite the left value with th right value. \n",
    "- a is coffecint when is increase the steps will be faster mostly the less accurcy. and when decrease the steps will slower but mor accurate. "
   ]
  },
  {
   "cell_type": "markdown",
   "metadata": {},
   "source": [
    "$\\color{red} \\alpha = $ $\\color{yellow} Decreasing\\ Rate\\ OR\\ learning\\ rate\\ (alpha)$\n",
    "\n",
    "$ \\color{red}:=$ $\\color{yellow} \\ mean\\ overwrite$\n",
    "\n",
    "$ \\color{red} m$ $\\color{yellow} = number\\ of \\ rows$\n",
    "\n",
    "$ \\color{red} h(x)$ $\\color{yellow} = the\\ predicted \\ value$\n",
    "\n",
    "$ \\color{red} y =$ $\\color{yellow} the\\ actual\\ value$\n",
    "\n",
    "$ \\color{red} \\theta _{0}$ $\\color{yellow}  := \\theta _{0} =\\alpha \\frac{1}{m} \\sum\\limits _{i=1} ^{m } (h _\\theta (x _{i}) -y _{i}) $ \n",
    "\n",
    "$ \\color{red} \\theta _{1}$ $\\color{yellow}   := \\theta _{1} =\\alpha \\frac{1}{m} \\sum\\limits _{i=1} ^{m } ((h _\\theta (x _{i}) -y _{i}) x _{i}$ \n",
    "\n",
    "$\\color{red} Hypothesis:$     $\\color{yellow} {h} _\\theta {(x)} = \\theta _{0} + \\theta _{1} x$\n",
    "\n",
    "$\\color{red} Definition:$ $\\color{yellow} \\theta _ 0 = y \\ intercept$\n",
    "\n",
    "$\\color{red} Definition:$ $\\color{yellow} \\theta _ 1 = b \\ slope $ \n"
   ]
  },
  {
   "cell_type": "code",
   "execution_count": null,
   "metadata": {},
   "outputs": [],
   "source": [
    "from IPython.display import Image\n",
    "Image(filename='images\\GradinetDescent2d.png') "
   ]
  },
  {
   "cell_type": "code",
   "execution_count": null,
   "metadata": {},
   "outputs": [],
   "source": [
    "from IPython.display import Image\n",
    "Image(filename='images\\GradinetDescent3d.png') "
   ]
  },
  {
   "cell_type": "code",
   "execution_count": null,
   "metadata": {},
   "outputs": [],
   "source": [
    "from IPython.display import Image\n",
    "Image(filename='images\\GradinetDescentGlobalAndLocal.png') \n",
    "\n",
    "# as we see a very simple curve "
   ]
  },
  {
   "cell_type": "code",
   "execution_count": null,
   "metadata": {},
   "outputs": [],
   "source": [
    "from IPython.display import Image\n",
    "Image(filename='images\\GradinetDescentLearningRate.png') \n",
    "\n",
    "# as we see a very simple two curves"
   ]
  },
  {
   "cell_type": "markdown",
   "metadata": {},
   "source": [
    "<span style=\"color:MediumOrchid;\">\n",
    "\n",
    "### Correct: simultaneous update \n",
    "\n",
    "- both equation sholud walk in parllel together, and repeated together\n",
    "\n",
    "\n",
    "$\\color {red} \\partial = $ $\\color {yellow} Partial Derivatives$\n",
    "\n",
    "$\\color {red} Correct:$  $\\color {yellow} simultaneous \\ update $\n",
    "\n",
    "$\\color {green} temp \\ 0 :=$ $\\color {yellow} \\theta _{0} - \\alpha \\frac{\\partial}{\\partial \\theta _{0}}J(\\theta _{0},\\theta_{1})$\n",
    "\n",
    "$\\color {green} temp \\ 1 :=$ $\\color {yellow} \\theta _{1} - \\alpha \\frac{\\partial}{\\partial \\theta _{0}}J(\\theta _{0},\\theta_{1})$\n",
    "\n",
    "$\\color {yellow} \\theta _{0}$ $\\color {green}:= temp0$\n",
    "\n",
    "$\\color {yellow} \\theta _{1}$ $\\color {green}:= temp0$\n",
    "\n",
    "\n",
    "$\\color {red} InCorrect:$  $\\color {red} simultaneous \\ update $\n",
    "\n",
    "$\\color {green} temp \\ 0 :=$ $\\color {yellow} \\theta _{0} - \\alpha \\frac{\\partial}{\\partial \\theta _{0}}J(\\theta _{0},\\theta_{1})$\n",
    "\n",
    "$\\color {yellow} \\theta _{0}$ $\\color {green}:= temp0$\n",
    "\n",
    "$\\color {green} temp \\ 1 :=$ $\\color {yellow} \\theta _{1} - \\alpha \\frac{\\partial}{\\partial \\theta _{0}}J(\\theta _{0},\\theta_{1})$\n",
    "\n",
    "$\\color {yellow} \\theta _{1}$ $\\color {green}:= temp0$"
   ]
  },
  {
   "cell_type": "code",
   "execution_count": 17,
   "metadata": {},
   "outputs": [
    {
     "name": "stdout",
     "output_type": "stream",
     "text": [
      "    X1    Y\n",
      "0  100  135\n",
      "1   95  130\n",
      "2   90  110\n",
      "3   80   95\n",
      "4   80   90\n",
      "5   70   85\n",
      "6   70   80\n",
      "7   60   80\n"
     ]
    }
   ],
   "source": [
    "# in oreder to get best fit line we will assume thetas for some values for example Theta 0 = 1 Theta 1 = 3 \n",
    "# The Equation will be h(x) = 1 + 3x\n",
    "import pandas as pd\n",
    "# intialise data of lists.\n",
    "# Example \n",
    "data = {'X1':['100', '95', '90', '80','80','70','70','60'],\n",
    "        'Y':[135, 130, 110, 95,90,85,80,80]}\n",
    "# Create DataFrame\n",
    "df = pd.DataFrame(data)\n",
    "# Print the output.\n",
    "print(df)"
   ]
  },
  {
   "cell_type": "code",
   "execution_count": 18,
   "metadata": {},
   "outputs": [
    {
     "data": {
      "image/png": "[encoded data removed]",
      "text/plain": [
       "<Figure size 432x288 with 1 Axes>"
      ]
     },
     "metadata": {},
     "output_type": "display_data"
    }
   ],
   "source": [
    "# Need of a Linear regression\n",
    "import matplotlib.pyplot as plt\n",
    "import numpy as np\n",
    "# Define the dataset\n",
    "x=  np.array([100,95,90,80,80,70,70,60])\n",
    "y = np.array([135,130,110,95,90,85,80,11])\n",
    "n = np.size(x)\n",
    "experience = x #Independent Variable.\n",
    "salary = y #Dependent Variable.\n",
    "# Plot the data points\n",
    "plt.style.use('dark_background')\n",
    "plt.scatter(x,y, color = 'red')\n",
    "plt.xlabel(\"Experience\")\n",
    "plt.ylabel(\"Salary\")\n",
    "plt.show()"
   ]
  },
  {
   "cell_type": "markdown",
   "metadata": {},
   "source": [
    "### Hypothesis:     $\\color{red} {h} _\\theta {(x)} = \\theta _{0} + \\theta _{1} x$\n",
    "\n",
    "$\\color {Yellow} h(x) = 1 + 3 X$\n",
    "\n",
    "$\\color {Yellow} Theta \\ \\theta _{0}$ = 1\n",
    "\n",
    "$\\color {Yellow} Theta \\ \\theta _{1}$ = 3"
   ]
  },
  {
   "cell_type": "code",
   "execution_count": null,
   "metadata": {},
   "outputs": [],
   "source": [
    "### Calculate h(x)\n",
    "# in oreder to get best fit line we will assume thetas for some values for example Theta 0 = 1 Theta 1 = 3 \n",
    "# The Equation will be h(x) = 1 + 3x\n",
    "import pandas as pd\n",
    "# intialise data of lists.\n",
    "# Example \n",
    "data = {'X1':['100', '95', '90', '80','80','70','70','60'],\n",
    "        'Y':[300, 285, 270, 240,235,200,205,180],\n",
    "        'h(x)':[301,286,271,241,241,211,211,181] }\n",
    "# Create DataFrame\n",
    "df = pd.DataFrame(data)\n",
    "# Print the output.\n",
    "print(df)"
   ]
  },
  {
   "cell_type": "code",
   "execution_count": 21,
   "metadata": {},
   "outputs": [
    {
     "name": "stdout",
     "output_type": "stream",
     "text": [
      "    X1    Y  h(x)  h(x) -y\n",
      "0  100  300   301        1\n",
      "1   95  285   286        1\n",
      "2   90  270   271        1\n",
      "3   80  240   241        1\n",
      "4   80  235   241        6\n",
      "5   70  200   211       11\n",
      "6   70  205   211        6\n",
      "7   60  180   181        1\n"
     ]
    }
   ],
   "source": [
    "### Calculate h(x) -y\n",
    "# in oreder to get best fit line we will assume thetas for some values for example Theta 0 = 1 Theta 1 = 3 \n",
    "# The Equation will be h(x) = 1 + 3x\n",
    "import pandas as pd\n",
    "# intialise data of lists.\n",
    "# Example \n",
    "data = {'X1':['100', '95', '90', '80','80','70','70','60'],\n",
    "        'Y':[300, 285, 270, 240,235,200,205,180],\n",
    "        'h(x)':[301,286,271,241,241,211,211,181],\n",
    "         'h(x) -y':[1,1,1,1,6,11,6,1]}\n",
    "# Create DataFrame\n",
    "df = pd.DataFrame(data)\n",
    "# Print the output.\n",
    "print(df)"
   ]
  },
  {
   "cell_type": "markdown",
   "metadata": {},
   "source": [
    "$ \\color{Red} Theta \\ 0 $ \n",
    "\n",
    "$ \\color{Yellow} \\theta _{0} := \\theta _{0} =\\alpha \\frac{1}{m} \\sum\\limits _{i=1} ^{m } (h _\\theta (x _{i}) -y _{i}) $ \n",
    "\n",
    "$\\color {yellow} \\theta _{0} $ = 1 \n",
    "\n",
    "$\\color {yellow} summation \\ of \\ difference  $ = 28\n",
    "\n",
    "$\\color {yellow} \\alpha$ = 0.002\n",
    "\n",
    "$\\color {yellow} m $ = 8\n",
    "\n",
    "### Theta 0 = 1 - ((0.0002 /8) * (28))\n",
    "### Theta 0 = 1 - 0.007 = 0.993\n"
   ]
  },
  {
   "cell_type": "code",
   "execution_count": null,
   "metadata": {},
   "outputs": [],
   "source": [
    "### Calculate h(x) -y\n",
    "# in oreder to get best fit line we will assume thetas for some values for example Theta 0 = 1 Theta 1 = 3 \n",
    "# The Equation will be h(x) = 1 + 3x\n",
    "import pandas as pd\n",
    "# intialise data of lists.\n",
    "# Example \n",
    "data = {'X1':['100', '95', '90', '80','80','70','70','60'],\n",
    "        'Y':[135, 130, 110, 95,90,85,80,80],\n",
    "        'h(x)':[301,286,271,241,241,211,211,181],\n",
    "         'h(x) -y':[1,1,1,1,6,11,6,1],\n",
    "          '(h(x) -y)x':[100,95,90,80,480,770,420,60]}\n",
    "# Create DataFrame\n",
    "df = pd.DataFrame(data)\n",
    "# Print the output.\n",
    "print(df)"
   ]
  },
  {
   "cell_type": "markdown",
   "metadata": {},
   "source": [
    "$ \\color{Red} Theta \\ 1 $ \n",
    "\n",
    "$ \\color{Yellow} \\theta _{1} := \\theta _{1} =\\alpha \\frac{1}{m} \\sum\\limits _{i=1} ^{m } ((h _\\theta (x _{i}) -y _{i}) x _{i} $ \n",
    "\n",
    "$\\color {yellow} \\theta _{1} $ = 3\n",
    "\n",
    "$\\color {yellow} summation \\ of \\ difference  $ = 2095\n",
    "\n",
    "$\\color {yellow} \\alpha$ = 0.002\n",
    "\n",
    "$\\color {yellow} m $ = 8\n",
    "\n",
    "### Theta 1 = 3 - ((0.0002 /8) * (2095))\n",
    "### Theta 1 = 3 - 0.052 = 2.48\n",
    "\n",
    "\n",
    "### Will will repeat until we get the optimal value of J\n"
   ]
  }
 ],
 "metadata": {
  "interpreter": {
   "hash": "9780809c1dcb5ebfb6c99d6eaff53e5915ef1e624894815a228c084387870e35"
  },
  "kernelspec": {
   "display_name": "Python 3.8.5 64-bit ('base': conda)",
   "name": "python3"
  },
  "language_info": {
   "codemirror_mode": {
    "name": "ipython",
    "version": 3
   },
   "file_extension": ".py",
   "mimetype": "text/x-python",
   "name": "python",
   "nbconvert_exporter": "python",
   "pygments_lexer": "ipython3",
   "version": "3.8.5"
  },
  "orig_nbformat": 4
 },
 "nbformat": 4,
 "nbformat_minor": 2
}
