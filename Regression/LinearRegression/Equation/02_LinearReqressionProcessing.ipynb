{
 "cells": [
  {
   "cell_type": "markdown",
   "metadata": {},
   "source": [
    "<span style=\"color:Orange;\">\n",
    "\n",
    "### The Linear regression:\n",
    "\n",
    "<span style=\"color:Turquoise;\">\n",
    "\n",
    "\n",
    "y = mx + c\n",
    "\n",
    "Theta 0 y intercept\n",
    "\n",
    "Theta 1 = Slope \n",
    "\n",
    "$ \\color{Yellow}  \\theta _{0} \\ \\theta _{1} $ represent the parameters of the regression line\n",
    "\n",
    "\n",
    "<img src=\"images\\LinearRegression.png\" width=\"250\" height=\"250\">\n",
    "\n",
    "******************** "
   ]
  }
 ],
 "metadata": {
  "interpreter": {
   "hash": "9780809c1dcb5ebfb6c99d6eaff53e5915ef1e624894815a228c084387870e35"
  },
  "kernelspec": {
   "display_name": "Python 3.8.5 64-bit ('base': conda)",
   "name": "python3"
  },
  "language_info": {
   "codemirror_mode": {
    "name": "ipython",
    "version": 3
   },
   "file_extension": ".py",
   "mimetype": "text/x-python",
   "name": "python",
   "nbconvert_exporter": "python",
   "pygments_lexer": "ipython3",
   "version": "3.8.5"
  },
  "orig_nbformat": 4
 },
 "nbformat": 4,
 "nbformat_minor": 2
}
