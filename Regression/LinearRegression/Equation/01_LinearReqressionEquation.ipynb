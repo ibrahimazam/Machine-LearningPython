{
 "cells": [
  {
   "cell_type": "markdown",
   "metadata": {},
   "source": [
    "<span style=\"color:Orange;\">\n",
    "\n",
    "### Linear Reqression Equation \n",
    "\n",
    "<span style=\"color:Turquoise;\">\n",
    "\n",
    "One Varaible or Unvariate\n",
    "\n",
    "Input X\n",
    "\n",
    "OutPut Y \n",
    "\n",
    "Rows m \n",
    "\n",
    "Fetaures n \n",
    "\n",
    "h(x) Predict Value \n",
    "\n",
    "Cost J\n",
    "\n",
    "Theta $\\Theta$\n",
    "\n",
    "********************** "
   ]
  },
  {
   "cell_type": "markdown",
   "metadata": {},
   "source": [
    "<span style=\"color:Orange;\">\n",
    "\n",
    "### The Linear regression:\n",
    "\n",
    "<span style=\"color:Turquoise;\">\n",
    "\n",
    "\n",
    "- The goal is minimize the diffirince between h(x) which is the predicted value and the actual y. \n",
    "- We will divide in 2m to corrleate the cost value\n",
    "- tTe final goal is to find the best value of theta 0,1 which is minimize the cost J or Cost Error\n",
    "\n",
    "Hypothesis:     $\\color{Yellow} {h}_{0} {(x)} = \\theta _{0} + \\theta _{1}x$\n",
    "\n",
    "Parameters:     $\\color{Yellow} \\theta _{0},\\theta _{1} $\n",
    "\n",
    "Cost Functaion: $\\color{Yellow} J(\\theta _{0},\\theta _{1}) = \\frac{1}{2m} \\sum\\limits _{i=1} ^{m } (h _\\theta ({x} (^i)) - y (^i)) ^2 $\n",
    "\n",
    "Goal : $\\color{Yellow}  minimize\\ \\theta _{0},\\theta _{1} J(\\theta _{0},\\theta _{1})$\n",
    "\n",
    "\n",
    "****************** "
   ]
  },
  {
   "cell_type": "markdown",
   "metadata": {},
   "source": [
    "<span style=\"color:Orange;\">\n",
    "\n",
    "### The Linear regression:\n",
    "\n",
    "<span style=\"color:Turquoise;\">\n",
    "\n",
    "- The Goal is to minimize h(x) and the actual y\n",
    "\n",
    "Equation $\\color{red} h(x) = 5 + 2x$\n",
    "\n",
    "Theta 0 = 5 \n",
    "\n",
    "theta 1 = 2\n",
    "\n",
    "************************************** "
   ]
  },
  {
   "cell_type": "markdown",
   "metadata": {},
   "source": [
    "<span style=\"color:Orange;\">\n",
    "\n",
    "### Example:\n",
    "\n",
    "<span style=\"color:Turquoise;\">\n",
    "\n",
    "- The goal of creating a model is to choose parameters, or theta ... We start by initializing theta0 and theta1 to any two values, Theta 0 = 5 Theta 1 = 2 \n",
    "- The Equation will be h(x) = 5 + 2x\n",
    "\n",
    "$\\begin{bmatrix} X & y\\\\ 1 & 7 \\\\ 2 & 8 \\\\ 2 & 7\\\\ 3 & 9\\\\ 4 & 11\\\\ 5 & 10\\\\ 5 & 12 \\end{bmatrix}$ \n",
    "\n",
    "*********************** "
   ]
  },
  {
   "cell_type": "markdown",
   "metadata": {},
   "source": [
    "<span style=\"color:Orange;\">\n",
    "\n",
    "### Example add h(x):\n",
    "\n",
    "<span style=\"color:Turquoise;\">\n",
    "\n",
    "- Here we get the h(x) which is the predicted value\n",
    "- we choose parameters, or theta ... We start by initializing theta0 and theta1 to any two values, Theta 0 = 5 Theta 1 = 2 \n",
    "- Theta 0 = 5 Theta 1 = 2 \n",
    "- The Equation h(x) = 5 + 2x \n",
    "\n",
    "\n",
    "$\\begin{bmatrix} \\color{red}X &\\color{red} y &\\color{red} h(x)\\\\ 1 & 7 & 7\\\\ 2 & 8 & 9  \\\\ 2 & 7 & 9\\\\ 3 & 9 & 11\\\\ 4 & 11 & 13\\\\ 5 & 10 & 15\\\\ 5 & 12 & 15 \\end{bmatrix}$ \n",
    "\n",
    "*********************** "
   ]
  },
  {
   "cell_type": "markdown",
   "metadata": {},
   "source": [
    "<span style=\"color:Orange;\">\n",
    "\n",
    "### Example add h(x)-y:\n",
    "\n",
    "<span style=\"color:Turquoise;\">\n",
    "\n",
    "- Here we get the h(x) - y the differnce between actual value and predicted value \n",
    "\n",
    "$\\begin{bmatrix} \\color{red}X &\\color{red} y &\\color{red} h(x)&\\color{red} h(x)-y \\\\ 1 & 7 & 7 & 0\\\\ 2 & 8 & 9& 1  \\\\ 2 & 7 & 2& 2\\\\ 3 & 9 & 11& 2\\\\ 4 & 11 & 13& 2\\\\ 5 & 10 & 15& 5\\\\ 5 & 12 & 15& 3 \\end{bmatrix}$ \n",
    "\n",
    "*********************** "
   ]
  },
  {
   "cell_type": "markdown",
   "metadata": {},
   "source": [
    "<span style=\"color:Orange;\">\n",
    "\n",
    "### the cost Equation (h(x) - y)2:\n",
    "\n",
    "<span style=\"color:Turquoise;\">\n",
    "\n",
    "- Here we get the (h(x) - y)2 which is the cost Equation  \n",
    "\n",
    "$\\color{red} Cost Functaion$ $\\color{Yellow}: J(\\theta _{0},\\theta _{1}) = \\frac{1}{2m} \\sum\\limits _{i=1} ^{m } (h _\\theta ({x} (^i)) - y (^i)) ^2 $\n",
    "\n",
    "$\\color{red} 2m$ $\\color{Yellow} = \\ number \\ of \\ rows \\ which \\ is \\ 14 $\n",
    "\n",
    "$\\color{red} J$ $\\color{Yellow} = 1 / 14 \\ (0+1+4+4+4+25+9)$\n",
    "\n",
    "$\\color{red} \\sum\\limits$ $\\color{Yellow} which \\ is \\ the \\ sum \\ of \\ all \\ values \\ 47 $\n",
    "\n",
    "$\\color{red} J$ $\\color{Yellow} = \\ 47/14 = \\ 3.3$\n",
    "\n",
    "$ \\color{Yellow} 3.3 \\  is \\ the \\ cost \\ error $ \n",
    "\n",
    "\n",
    "$\\begin{bmatrix} \\color{red}X &\\color{red} y &\\color{red} h(x)&\\color{red} h(x)-y&\\color{red} (h(x)-y)^{2} \\\\ 1 & 7 & 7 & 0& 0\\\\ 2 & 8 & 9& 1& 1  \\\\ 2 & 7 & 2& 2& 4\\\\ 3 & 9 & 11& 2& 4\\\\ 4 & 11 & 13& 2& 4\\\\ 5 & 10 & 15& 5& 25\\\\ 5 & 12 & 15& 3& 9 \\end{bmatrix}$ \n",
    "\n",
    "### Simple Linear Regression\n",
    "\n",
    "<img src=\"images\\LinearRegression.png\" width=\"250\" height=\"250\">\n",
    "\n",
    "\n",
    "*********************** \n"
   ]
  }
 ],
 "metadata": {
  "interpreter": {
   "hash": "9780809c1dcb5ebfb6c99d6eaff53e5915ef1e624894815a228c084387870e35"
  },
  "kernelspec": {
   "display_name": "Python 3.8.5 64-bit ('base': conda)",
   "name": "python3"
  },
  "language_info": {
   "codemirror_mode": {
    "name": "ipython",
    "version": 3
   },
   "file_extension": ".py",
   "mimetype": "text/x-python",
   "name": "python",
   "nbconvert_exporter": "python",
   "pygments_lexer": "ipython3",
   "version": "3.8.5"
  },
  "orig_nbformat": 4
 },
 "nbformat": 4,
 "nbformat_minor": 2
}
