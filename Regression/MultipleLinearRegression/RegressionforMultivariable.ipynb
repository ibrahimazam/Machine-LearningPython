{
 "cells": [
  {
   "cell_type": "markdown",
   "metadata": {},
   "source": [
    "<span style=\"color:Yellow;\">\n",
    "\n",
    "In multivariable linear regression we have a mulitple X or features in each row for example : Home size, location, color, used, new... etc.  \n"
   ]
  },
  {
   "cell_type": "code",
   "execution_count": null,
   "metadata": {},
   "outputs": [],
   "source": [
    "import pandas as pd\n",
    "# intialise data of lists.\n",
    "# Example \n",
    "data = {'X1 - Size(feet)':['2104', '1416', '1534', '852'],\n",
    "        'X2 - number of bed room ':['2104', '1416', '1534', '852'],\n",
    "        'X3 - number of floors':['2104', '1416', '1534', '852'],\n",
    "        'X4 - Age of home':['2104', '1416', '1534', '852'],\n",
    "        'Y - Price (1000$)':[460, 232, 315, 178]}\n",
    "# Create DataFrame\n",
    "df = pd.DataFrame(data)\n",
    "# Print the output.\n",
    "print(df)"
   ]
  },
  {
   "cell_type": "markdown",
   "metadata": {},
   "source": [
    "Notation\n",
    "\n",
    "- numbers of X we called it n \n",
    "\n",
    "$\\color {yellow} _n$  $\\color {red} = number \\ of \\ features$\n",
    "\n",
    "$\\color {yellow} x {(^i)}$ $\\color {red} = input \\ (features)\\ of \\ i ^{th} \\ training \\ example.$\n",
    "\n",
    "$\\color {yellow} x ^{i} _{j}$ $\\color {red} value \\ of \\ features \\ j \\ in \\ i ^{th} training \\ example.$ \n",
    "\n",
    "$\\color {yellow} X ^{3} _{4}$ which is the the 3 is row number 3 and the 4 is the column 4 and the value of row number 3 "
   ]
  },
  {
   "cell_type": "markdown",
   "metadata": {},
   "source": [
    "- Linear regression equation one Variable or Unvariate Regression\n",
    "\n",
    "$\\color {yellow} \\hat Y \\ = bx + a $\n",
    "\n",
    "$\\color {yellow}\\hat Y =$ $\\color {red}  predicted \\ values \\ of \\ Y$\n",
    "\n",
    "$\\color {yellow} bx= $ $\\color {red} b = \\ slope $\n",
    "\n",
    "$\\color {yellow} a=$ $\\color {red} Y-intercept$"
   ]
  },
  {
   "cell_type": "code",
   "execution_count": null,
   "metadata": {},
   "outputs": [],
   "source": []
  },
  {
   "cell_type": "markdown",
   "metadata": {},
   "source": [
    "Hypothesis:     $\\color{Yellow} {h} _\\theta {(x)} = \\theta _{0} + \\theta _{1}x + \\theta _{2}x _{2} +.... \\ + \\theta _{n}x_{n}$\n",
    "\n",
    "When we have matrix has on colmn we called it vector"
   ]
  }
 ],
 "metadata": {
  "interpreter": {
   "hash": "9780809c1dcb5ebfb6c99d6eaff53e5915ef1e624894815a228c084387870e35"
  },
  "kernelspec": {
   "display_name": "Python 3.8.5 64-bit ('base': conda)",
   "name": "python3"
  },
  "language_info": {
   "codemirror_mode": {
    "name": "ipython",
    "version": 3
   },
   "file_extension": ".py",
   "mimetype": "text/x-python",
   "name": "python",
   "nbconvert_exporter": "python",
   "pygments_lexer": "ipython3",
   "version": "3.8.5"
  },
  "orig_nbformat": 4
 },
 "nbformat": 4,
 "nbformat_minor": 2
}
