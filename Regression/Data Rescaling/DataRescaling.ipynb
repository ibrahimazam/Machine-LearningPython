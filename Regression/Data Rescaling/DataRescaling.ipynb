{
 "cells": [
  {
   "cell_type": "markdown",
   "metadata": {},
   "source": [
    "\n",
    "<span style=\"color:MediumOrchid;\">\n",
    "\n",
    "- Data Rescaling: \n",
    "- its problem that we face when the scale of the value is different. and that case to inaccurate Drawing.\n",
    "\n",
    "example:  \n",
    "- Home price, as we can see the room number is normal number and the prices in thousands. \n",
    "\n",
    "What usaully we do we make sure that all the numbers or the values to be from -1 to + 1  \n",
    "\n",
    "$x _{1} = \\frac{x _{1} - \\mu} {s_{1}}$\n",
    "\n",
    "$\\mu = Avg \\ Value $\n",
    "\n",
    "$S_{1} = The\\ range\\ which \\ is \\ max \\ value \\ - \\ min \\ value  $\n",
    "\n",
    "\n",
    "$x _{1} = \\frac{1 - 2.8} {4}$ = -0.45\n"
   ]
  },
  {
   "cell_type": "code",
   "execution_count": null,
   "metadata": {},
   "outputs": [],
   "source": [
    "from IPython.display import Image \n",
    "Image ('images\\DataRescaling.png')"
   ]
  },
  {
   "cell_type": "code",
   "execution_count": null,
   "metadata": {},
   "outputs": [],
   "source": [
    "from IPython.display import Image \n",
    "Image ('images\\ideaDataRescaling1.png')"
   ]
  },
  {
   "cell_type": "code",
   "execution_count": null,
   "metadata": {},
   "outputs": [],
   "source": [
    "from IPython.display import Image \n",
    "Image ('images\\AfterDataRescaling.png')"
   ]
  },
  {
   "cell_type": "code",
   "execution_count": null,
   "metadata": {},
   "outputs": [],
   "source": [
    "from IPython.display import Image\n",
    "Image ('images\\ideaDataRescaling.png')"
   ]
  }
 ],
 "metadata": {
  "interpreter": {
   "hash": "9780809c1dcb5ebfb6c99d6eaff53e5915ef1e624894815a228c084387870e35"
  },
  "kernelspec": {
   "display_name": "Python 3.8.5 64-bit ('base': conda)",
   "name": "python3"
  },
  "language_info": {
   "codemirror_mode": {
    "name": "ipython",
    "version": 3
   },
   "file_extension": ".py",
   "mimetype": "text/x-python",
   "name": "python",
   "nbconvert_exporter": "python",
   "pygments_lexer": "ipython3",
   "version": "3.8.5"
  },
  "orig_nbformat": 4
 },
 "nbformat": 4,
 "nbformat_minor": 2
}
