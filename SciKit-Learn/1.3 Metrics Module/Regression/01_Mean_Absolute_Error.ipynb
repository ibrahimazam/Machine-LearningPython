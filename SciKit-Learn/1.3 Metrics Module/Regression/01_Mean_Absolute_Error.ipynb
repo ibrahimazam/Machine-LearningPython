{
 "cells": [
  {
   "cell_type": "markdown",
   "metadata": {},
   "source": [
    "<span style=\"color:Yellow;\">\n",
    "\n",
    "### Mean Absolute Error \n",
    "  מוחלט\n",
    "\n",
    "\n",
    " - in simple words the mean absolute error which is absolute values the (J cost function) which is the difference between h(x) (predictid value) and Real Value y. \n",
    " it take the predicted value and the actual value and abstruct the difference if it postive or negative it will change it to positive number and then will make some summation and divide it by the total number\n",
    "\n",
    "\n",
    " $\\frac{1}{n}\\sum^{n}_{i} = _ {1} |y _{i} - \\hat{y}  _{i}| $ \n",
    "\n",
    "\n",
    "\n"
   ]
  },
  {
   "cell_type": "code",
   "execution_count": null,
   "metadata": {},
   "outputs": [],
   "source": [
    "# Import Libraries\n",
    "from sklearn.metrics import mean_absolute_error \n",
    "#----------------------------------------------------\n",
    "\n",
    "#Calculating Mean Absolute Error\n",
    "MAEValue = mean_absolute_error(y_test, y_pred, multioutput='uniform_average') # it can be raw_values\n",
    "# multioutput Mean for all value uniform_average\n",
    "# \n",
    "# y_test Actual Value \n",
    "# y_pred predicted values (the matrices should be in the same dimension)\n",
    "y_test = [5,5,8,6,3,2,5]\n",
    "y_pred = [2,6,9,8,5,6,3]\n",
    "MAEValue =[3,1,1,2,2,4,2] = 3+1+1+2+2+4+2 = 15/7 \n",
    "#print('Mean Absolute Error Value is : ', MAEValue)"
   ]
  },
  {
   "cell_type": "code",
   "execution_count": 12,
   "metadata": {},
   "outputs": [
    {
     "name": "stdout",
     "output_type": "stream",
     "text": [
      "MAE = \n",
      "  0.5\n",
      "MAE1 = \n",
      "  0.75\n"
     ]
    },
    {
     "data": {
      "text/plain": [
       "array([0.5, 1. ])"
      ]
     },
     "execution_count": 12,
     "metadata": {},
     "output_type": "execute_result"
    }
   ],
   "source": [
    "from sklearn.metrics import mean_absolute_error\n",
    "y_true = [3, -0.5, 2, 7]\n",
    "y_pred = [2.5, 0.0, 2, 8]\n",
    "\n",
    "MAE= mean_absolute_error(y_true, y_pred)\n",
    "print ('MAE = \\n ',MAE)\n",
    "## Fitting 3X2\n",
    "y_true = [[0.5, 1], \n",
    "          [-1, 1],  \n",
    "          [7, -6]]\n",
    "y_pred = [[0, 2], \n",
    "          [-1, 2],\n",
    "          [8, -5]]\n",
    "\n",
    "MAE1 = mean_absolute_error(y_true, y_pred) # 0.75\n",
    "print ('MAE1 = \\n ',MAE1)\n",
    "\n",
    "#print ('mean_absolute_error\\n',mean_absolute_error)\n",
    "mean_absolute_error(y_true, y_pred, multioutput='uniform_average') # 0.75\n",
    "\n",
    "mean_absolute_error(y_true, y_pred, multioutput='raw_values') # array([0.5, 1. ])"
   ]
  }
 ],
 "metadata": {
  "interpreter": {
   "hash": "9780809c1dcb5ebfb6c99d6eaff53e5915ef1e624894815a228c084387870e35"
  },
  "kernelspec": {
   "display_name": "Python 3.8.5 64-bit ('base': conda)",
   "name": "python3"
  },
  "language_info": {
   "codemirror_mode": {
    "name": "ipython",
    "version": 3
   },
   "file_extension": ".py",
   "mimetype": "text/x-python",
   "name": "python",
   "nbconvert_exporter": "python",
   "pygments_lexer": "ipython3",
   "version": "3.8.5"
  },
  "orig_nbformat": 4
 },
 "nbformat": 4,
 "nbformat_minor": 2
}
