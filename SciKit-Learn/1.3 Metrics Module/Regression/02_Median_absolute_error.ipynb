{
 "cells": [
  {
   "cell_type": "markdown",
   "metadata": {},
   "source": [
    " $\\frac{1}{n}\\sum^{n}_{i} = _ {1} (y _{i} - \\hat{y}  _{i}) ^{2} $ \n"
   ]
  }
 ],
 "metadata": {
  "language_info": {
   "name": "python"
  },
  "orig_nbformat": 4
 },
 "nbformat": 4,
 "nbformat_minor": 2
}
