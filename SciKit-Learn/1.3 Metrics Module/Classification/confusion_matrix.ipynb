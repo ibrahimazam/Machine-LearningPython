{
 "cells": [
  {
   "cell_type": "markdown",
   "metadata": {},
   "source": [
    "<span style=\"color:Yellow;\">\n",
    "\n",
    "- Confusion Matrix. \n",
    "- the Confusion matrix well give us 4 values which is TP,FN,FP,TN and help us to Evaluation the algorhtim. \n",
    "- the Algorthim will predict 0 or 1. "
   ]
  },
  {
   "cell_type": "code",
   "execution_count": 1,
   "metadata": {},
   "outputs": [
    {
     "name": "stdout",
     "output_type": "stream",
     "text": [
      "          Actual        P       N\n",
      "Positive      120  100 TP   20 FP\n",
      "Negative      880  130 FN  750 TN\n"
     ]
    }
   ],
   "source": [
    "import pandas as pd\n",
    "data = {'Actual ':[120,880],\n",
    "        'P':['100 TP', '130 FN'],\n",
    "        'N':['20 FP', '750 TN']}\n",
    "df = pd.DataFrame(data,index=['Positive','Negative'])\n",
    "print(df)"
   ]
  },
  {
   "cell_type": "code",
   "execution_count": 2,
   "metadata": {},
   "outputs": [
    {
     "data": {
      "text/plain": [
       "array([[3, 2],\n",
       "       [4, 1]], dtype=int64)"
      ]
     },
     "execution_count": 2,
     "metadata": {},
     "output_type": "execute_result"
    }
   ],
   "source": [
    "from sklearn.metrics import confusion_matrix\n",
    "# Class of confusion_matrix\n",
    "import seaborn as sns\n",
    "# You can import seaborn for drwaing \n",
    "import matplotlib.pyplot as plt\n",
    "y_pred = ['a','a','b','b','a','b','a','a','a','a']\n",
    "y_true  = ['a','b','b','a','b','a','a','b','a','b']\n",
    "confusion_matrix(y_true, y_pred)\n",
    "# drawing confusion matrix\n",
    "# sns.heatmap(CM, center = True)\n",
    "# plt.show()\n",
    "#============"
   ]
  },
  {
   "cell_type": "code",
   "execution_count": 49,
   "metadata": {},
   "outputs": [
    {
     "name": "stdout",
     "output_type": "stream",
     "text": [
      "          Actual     A     B \n",
      "Actual a        5  3 TP  2 FN\n",
      "Actual b        5  4 FP  1 TN\n"
     ]
    }
   ],
   "source": [
    "import pandas as pd\n",
    "data = {'Actual ':[5,\n",
    "                   5],\n",
    "        'A ':['3 TP',\n",
    "              '4 FP'],\n",
    "        'B ':['2 FN', \n",
    "              '1 TN']}\n",
    "df = pd.DataFrame(data,index=['Actual a','Actual b'])\n",
    "print(df)"
   ]
  },
  {
   "cell_type": "code",
   "execution_count": 3,
   "metadata": {},
   "outputs": [
    {
     "data": {
      "image/png": "[encoded data removed]",
      "text/plain": [
       "<Figure size 432x288 with 2 Axes>"
      ]
     },
     "metadata": {
      "needs_background": "light"
     },
     "output_type": "display_data"
    }
   ],
   "source": [
    "from sklearn.metrics import confusion_matrix\n",
    "# Class of confusion_matrix\n",
    "import seaborn as sns\n",
    "# You can import seaborn for drwaing \n",
    "import matplotlib.pyplot as plt\n",
    "y_pred = ['a','a','b','b','a','b','a','a','a','a']\n",
    "y_true  = ['a','b','b','a','b','a','a','b','a','b']\n",
    "CM=confusion_matrix(y_true, y_pred)\n",
    "#drawing confusion matrix\n",
    "sns.heatmap(CM, center = True)\n",
    "plt.show()\n",
    "#============"
   ]
  },
  {
   "cell_type": "code",
   "execution_count": 59,
   "metadata": {},
   "outputs": [
    {
     "data": {
      "image/png": "[encoded data removed]",
      "text/plain": [
       "<Figure size 432x288 with 2 Axes>"
      ]
     },
     "metadata": {
      "needs_background": "light"
     },
     "output_type": "display_data"
    }
   ],
   "source": [
    "from sklearn.metrics import confusion_matrix\n",
    "# Class of confusion_matrix\n",
    "import seaborn as sns\n",
    "# You can import seaborn for drwaing \n",
    "import matplotlib.pyplot as plt\n",
    "y_pred = ['a','b','c','a','b','c','a','b','c','a']\n",
    "y_true  = ['a','a','b','b','a','b','c','c','b','b']\n",
    "CM=confusion_matrix(y_true, y_pred)\n",
    "#drawing confusion matrix\n",
    "sns.heatmap(CM, center = True)\n",
    "plt.show()\n",
    "#============"
   ]
  },
  {
   "cell_type": "code",
   "execution_count": 60,
   "metadata": {},
   "outputs": [
    {
     "name": "stdout",
     "output_type": "stream",
     "text": [
      "         Actual     A     B   C \n",
      "Actual a       3  1 TP     2   0\n",
      "Actual b       5     2  0 TP   3\n",
      "Actual c       2     2     1  TP\n"
     ]
    }
   ],
   "source": [
    "import pandas as pd\n",
    "data = {'Actual ':['3',\n",
    "                   '5',\n",
    "                   '2'],\n",
    "        'A ':['1 TP', \n",
    "              '2',\n",
    "              '2'],\n",
    "        'B ':['2',\n",
    "              '0 TP',\n",
    "              '1'],\n",
    "        'C ':['0', \n",
    "              '3',\n",
    "              'TP']}\n",
    "df = pd.DataFrame(data,index=['Actual a','Actual b','Actual c'])\n",
    "print(df)"
   ]
  }
 ],
 "metadata": {
  "interpreter": {
   "hash": "9780809c1dcb5ebfb6c99d6eaff53e5915ef1e624894815a228c084387870e35"
  },
  "kernelspec": {
   "display_name": "Python 3.8.5 64-bit ('base': conda)",
   "name": "python3"
  },
  "language_info": {
   "codemirror_mode": {
    "name": "ipython",
    "version": 3
   },
   "file_extension": ".py",
   "mimetype": "text/x-python",
   "name": "python",
   "nbconvert_exporter": "python",
   "pygments_lexer": "ipython3",
   "version": "3.8.5"
  },
  "orig_nbformat": 4
 },
 "nbformat": 4,
 "nbformat_minor": 2
}
