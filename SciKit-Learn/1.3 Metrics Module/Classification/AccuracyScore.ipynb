{
 "cells": [
  {
   "cell_type": "markdown",
   "metadata": {},
   "source": [
    "<span style=\"color:MediumOrchid;\">\n",
    "\n",
    "- Accuracy Score \n",
    "\n",
    "- ((TP + TN) / float(TP + TN + FP + FN))\n",
    "\n",
    "- It Just take all the true and divide it by the all "
   ]
  },
  {
   "cell_type": "code",
   "execution_count": 11,
   "metadata": {},
   "outputs": [
    {
     "name": "stdout",
     "output_type": "stream",
     "text": [
      "0.6666666666666666\n"
     ]
    }
   ],
   "source": [
    "#Import Libraries\n",
    "from sklearn.metrics import accuracy_score\n",
    "#----------------------------------------------------\n",
    "#Calculating Accuracy Score  : ((TP + TN) / float(TP + TN + FP + FN))\n",
    "#AccScore = accuracy_score(y_test, y_pred, normalize=False)\n",
    "#print('Accuracy Score is : ', AccScore)\n",
    "from sklearn.metrics import accuracy_score\n",
    "y_pred = [0, 2, 1, 3,5,3]\n",
    "y_true = [0, 1, 2, 3,5,3]\n",
    "#print(accuracy_score(y_true, y_pred,normalize=False)) # fraction of all Trues over everything\n",
    "print(accuracy_score(y_true, y_pred, normalize=True)) #number of all Trues\n",
    "# TP TN FP FN = 6 \n",
    "# 4 TP \n",
    "# TP + TN = 4/6 = 0.6666666666666666\n"
   ]
  }
 ],
 "metadata": {
  "interpreter": {
   "hash": "9780809c1dcb5ebfb6c99d6eaff53e5915ef1e624894815a228c084387870e35"
  },
  "kernelspec": {
   "display_name": "Python 3.8.5 64-bit ('base': conda)",
   "name": "python3"
  },
  "language_info": {
   "codemirror_mode": {
    "name": "ipython",
    "version": 3
   },
   "file_extension": ".py",
   "mimetype": "text/x-python",
   "name": "python",
   "nbconvert_exporter": "python",
   "pygments_lexer": "ipython3",
   "version": "3.8.5"
  },
  "orig_nbformat": 4
 },
 "nbformat": 4,
 "nbformat_minor": 2
}
