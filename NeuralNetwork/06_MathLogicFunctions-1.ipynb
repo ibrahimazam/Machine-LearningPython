{
 "cells": [
  {
   "cell_type": "markdown",
   "metadata": {},
   "source": [
    "<span style=\"color:Yellow;\">\n",
    "\n",
    "#### Math Logic Functions - 1:\n",
    "\n",
    "<span style=\"color:Turquoise;\">\n",
    "\n",
    "- The Functions that responsable to define releationship between positive value and negative value in logical way and the types:  \n",
    "- Logical functions:\n",
    "* And \n",
    "* OR \n",
    "* Not\n",
    "* NAND\n",
    "* NOR \n",
    "* XOR \n",
    "* XNOR\n",
    "********************************************************\n"
   ]
  },
  {
   "cell_type": "markdown",
   "metadata": {},
   "source": [
    "<span style=\"color:Yellow;\">\n",
    "\n",
    "#### And:\n",
    "\n",
    "<span style=\"color:Violet;\">\n",
    "\n",
    "<span style=\"color:Turquoise;\">\n",
    "\n",
    "- Two Values should be positive. \n",
    "\n",
    "<img src=\"images\\and.png\" width=\"500\" height=\"150\">\n",
    "\n",
    "*****************************"
   ]
  },
  {
   "cell_type": "markdown",
   "metadata": {},
   "source": [
    "<span style=\"color:Yellow;\">\n",
    "\n",
    "#### OR:\n",
    "\n",
    "<span style=\"color:Violet;\">\n",
    "\n",
    "<span style=\"color:Turquoise;\">\n",
    "\n",
    "- one Value could be positive for positve results. \n",
    "\n",
    "<img src=\"images\\Or.png\" width=\"500\" height=\"150\">\n",
    "\n",
    "********************************************************"
   ]
  },
  {
   "cell_type": "markdown",
   "metadata": {},
   "source": [
    "<span style=\"color:Yellow;\">\n",
    "\n",
    "#### Not:\n",
    "\n",
    "<span style=\"color:Violet;\">\n",
    "\n",
    "<span style=\"color:Turquoise;\">\n",
    "\n",
    "- The inverse of the results\n",
    "\n",
    "<img src=\"images\\not.png\" width=\"500\" height=\"150\">\n",
    "\n",
    "********************************************************"
   ]
  },
  {
   "cell_type": "markdown",
   "metadata": {},
   "source": [
    "<span style=\"color:Yellow;\">\n",
    "\n",
    "#### NAND:\n",
    "\n",
    "<span style=\"color:Violet;\">\n",
    "\n",
    "<span style=\"color:Turquoise;\">\n",
    "\n",
    "- Two values should be positive for negative results.\n",
    "\n",
    "<img src=\"images\\NAND.png\" width=\"500\" height=\"150\">\n",
    "\n",
    "********************************************************"
   ]
  },
  {
   "cell_type": "markdown",
   "metadata": {},
   "source": [
    "<span style=\"color:Yellow;\">\n",
    "\n",
    "#### NOR:\n",
    "\n",
    "<span style=\"color:Violet;\">\n",
    "\n",
    "<span style=\"color:Turquoise;\">\n",
    "\n",
    "- Two values should be negative for positive results.\n",
    "\n",
    "<img src=\"images\\NOR.png\" width=\"500\" height=\"150\">\n",
    "\n",
    "********************************************************"
   ]
  },
  {
   "cell_type": "markdown",
   "metadata": {},
   "source": [
    "<span style=\"color:Yellow;\">\n",
    "\n",
    "#### XOR:\n",
    "\n",
    "<span style=\"color:Violet;\">\n",
    "\n",
    "<span style=\"color:Turquoise;\">\n",
    "\n",
    "- If two values similar it will be zero. and if it different it will 1. \n",
    "\n",
    "<img src=\"images\\XOR.png\" width=\"500\" height=\"150\">\n",
    "\n",
    "********************************************************"
   ]
  },
  {
   "cell_type": "markdown",
   "metadata": {},
   "source": [
    "<span style=\"color:Yellow;\">\n",
    "\n",
    "#### XNOR:\n",
    "\n",
    "<span style=\"color:Violet;\">\n",
    "\n",
    "<span style=\"color:Turquoise;\">\n",
    "\n",
    "- If two values similar it will be 1. and if it different it will 0. \n",
    "\n",
    "<img src=\"images\\XNOR.png\" width=\"500\" height=\"150\">\n",
    "\n",
    "********************************************************"
   ]
  },
  {
   "cell_type": "markdown",
   "metadata": {},
   "source": [
    "<span style=\"color:Yellow;\">\n",
    "\n",
    "#### Math Equations for logical functions:\n",
    "\n",
    "<span style=\"color:Violet;\">\n",
    "\n",
    "<span style=\"color:Turquoise;\">\n",
    "\n",
    "- All the above functions has some formula logic, so that we can apply a code in program.\n",
    "- all formula should be clear to be able successfuly apply it in NN. \n",
    "- It happens by detrmine theta values which multiply with X. \n",
    "- all the value will apply by sigmoid function. \n",
    "\n",
    "****************\n",
    "\n",
    "$g(z) = \\frac{1}{1 + e ^{-z}}$ .... $h _{\\Theta} = g (-30 + 20x_{1} + 20x_{2})$ \n",
    "\n",
    "********************************************************"
   ]
  }
 ],
 "metadata": {
  "language_info": {
   "name": "python"
  },
  "orig_nbformat": 4
 },
 "nbformat": 4,
 "nbformat_minor": 2
}
