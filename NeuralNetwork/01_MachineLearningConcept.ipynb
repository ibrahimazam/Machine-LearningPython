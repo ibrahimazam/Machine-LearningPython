{
 "cells": [
  {
   "cell_type": "markdown",
   "metadata": {},
   "source": [
    "<span style=\"color:Yellow;\">\n",
    "\n",
    "### What is Machine Learning:\n",
    "\n",
    "<span style=\"color:Violet;\">\n",
    "\n",
    "- Machine learning (ML) is a branch of data science that allows computers to study existing data to forecast future behaviors, outcomes and trends. \n",
    "- Machine learning is the field of study that gives computers the ability to learn without being explicitly programmed, using data.\n",
    "* It's a machine Or (algorithm), that trained by some tasks. for example below picture. \n",
    "* it's happen's by given the algorithm a lot of pictures like(cars) and more pictures dont have a cars. and the algorithm will analyze by math in order classify the picture from others. \n",
    "* The Neural network used becuase it have the capabilty to handle large numbers.\n",
    "* Madame Tussauds\n",
    " \n",
    "\n",
    "<span style=\"color:Violet;\">\n",
    "\n",
    "<img src=\"images\\catdog.png\" width=\"200\" height=\"200\">\n",
    "\n",
    "<span style=\"color:Yellow;\">\n",
    "\n",
    "### The way: \n",
    "\n",
    "<span style=\"color:Violet;\">\n",
    "\n",
    "- an example if the algorithm want to check if the pictures is a car or not. then python convert every pixel to numbers. \n",
    "- And then python will compare all the numbers. and that mean matrix with a lot columns and rows. \n",
    "\n",
    "- Image Black: 600 X 600 (600 points X 600 points, 600 rows, 600 columns). Python or the algorithm take every points and convert it to number depend on the brightness (from 0 - 100, 0 is white, 100 black)\n",
    "- Its impossible for the linear regression to handale a huge numbers. then we use NN. \n",
    "- Example for 2500 X 2500 = 6,250,000 miliion numbers. be aware its just an black \n",
    "- So what about colors (RGB). X 3 which is 18,750,000. we will have 3 matrices. each color will have an matrix \n",
    "- All the colors on computers came from three colors (Red,green,blue). \n",
    "\n",
    "<img src=\"images\\car.png\" width=\"350\" height=\"200\">\n",
    "\n",
    "<span style=\"color:Violet;\">\n",
    "\n",
    "### the steps: \n",
    "\n",
    "- The programmer will provide a thousands of images in different size, color, type... and point out number 1 in y to remrak that car. \n",
    "- Then provide thousands of images differnt from Cars. and define y in zero to let know the algorithm its not a car. \n",
    "- The aglorithm, will convert every image to matrix with huge numbers of columns and rows. and define the thetas. for y=1. \n",
    "- Same things to y=0. \n",
    "- Now the algorithm is trained. and has the capability to predict new images. \n",
    "- The above called Traning set. (70 Percent )\n",
    "- and the rest of 30 (test traning)\n",
    "\n",
    "\n",
    "\n",
    "\n"
   ]
  }
 ],
 "metadata": {
  "language_info": {
   "name": "python"
  },
  "orig_nbformat": 4
 },
 "nbformat": 4,
 "nbformat_minor": 2
}
