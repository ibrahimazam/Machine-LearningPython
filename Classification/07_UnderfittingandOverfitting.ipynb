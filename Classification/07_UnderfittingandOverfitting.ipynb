{
 "cells": [
  {
   "cell_type": "markdown",
   "metadata": {},
   "source": [
    "<span style=\"color:Yellow;\">\n",
    "\n",
    "### Underfitting and Overfitting Definition: \n",
    "\n",
    "<span style=\"color:Violet;\">\n",
    "\n",
    "- The meaning of Underfiting that when the used math equation nit covered all the exist points. \n",
    "- The meaning of Overfiting when the used math equation cover all the points which will make a lot of mistakes in prediction. \n",
    "\n",
    "<img src=\"images\\Fitting.png\" width=\"600\" height=\"150\">"
   ]
  },
  {
   "cell_type": "markdown",
   "metadata": {},
   "source": [
    "<span style=\"color:Yellow;\">\n",
    "\n",
    "### Underfitting: \n",
    "\n",
    "<span style=\"color:Violet;\">\n",
    "\n",
    "- a simple equation, and small and cannot fit all the points. \n",
    "- it aill have a lot problem with the prediction and the cost is high. \n",
    "- mostly casue of mising data might be (features n or Rows m ) or just wrong function\n",
    "\n",
    "\n",
    "<img src=\"images\\u.png\" width=\"250\" height=\"250\">"
   ]
  },
  {
   "cell_type": "markdown",
   "metadata": {},
   "source": [
    "<span style=\"color:Yellow;\">\n",
    "\n",
    "### OverFitting: \n",
    "\n",
    "<span style=\"color:Violet;\">\n",
    "\n",
    "- while the function cover every points. \n",
    "- it looks perfects but cannot predict new value. \n",
    "- mostly casue by a lot of inefficient data(Features or rows) of just choosed the wrong function. \n",
    "\n",
    "<img src=\"images\\o.png\" width=\"250\" height=\"250\">"
   ]
  },
  {
   "cell_type": "markdown",
   "metadata": {},
   "source": [
    "<span style=\"color:Yellow;\">\n",
    "\n",
    "### Optimize Fiting: \n",
    "\n",
    "<span style=\"color:Violet;\">\n",
    "\n",
    "- while the function cover most of the points and in appropriately way. \n",
    "- it looks not perfect but the prediction will be very close to the actual value. \n",
    "- it covered by right choice of features and function. and use the method of regularization.\n",
    "\n",
    "\n",
    "<img src=\"images\\Op.png\" width=\"250\" height=\"250\">"
   ]
  },
  {
   "cell_type": "markdown",
   "metadata": {},
   "source": [
    "<span style=\"color:Yellow;\">\n",
    "\n",
    "### Regression Example: \n",
    "\n",
    "<span style=\"color:Violet;\">\n",
    "\n",
    "<img src=\"images\\wrongfunction.png\" width=\"700\" height=\"200\">\n"
   ]
  },
  {
   "cell_type": "markdown",
   "metadata": {},
   "source": [
    "<span style=\"color:Yellow;\">\n",
    "\n",
    "### Classification Example: \n",
    "\n",
    "<span style=\"color:Violet;\">\n",
    "\n",
    "- When the bias is high the function dosent fit the points. \n",
    "- when the bias is very low thr function fit all the ppints.\n",
    "- all we need just an optimal bias. \n",
    "\n",
    "<span style=\"color:Violet;\">\n",
    "\n",
    "<img src=\"images\\Classiwrong.png\" width=\"700\" height=\"200\">\n"
   ]
  }
 ],
 "metadata": {
  "interpreter": {
   "hash": "9780809c1dcb5ebfb6c99d6eaff53e5915ef1e624894815a228c084387870e35"
  },
  "kernelspec": {
   "display_name": "Python 3.8.5 64-bit ('base': conda)",
   "name": "python3"
  },
  "language_info": {
   "codemirror_mode": {
    "name": "ipython",
    "version": 3
   },
   "file_extension": ".py",
   "mimetype": "text/x-python",
   "name": "python",
   "nbconvert_exporter": "python",
   "pygments_lexer": "ipython3",
   "version": "3.8.5"
  },
  "orig_nbformat": 4
 },
 "nbformat": 4,
 "nbformat_minor": 2
}
