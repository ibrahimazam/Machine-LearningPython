{
 "cells": [
  {
   "cell_type": "markdown",
   "metadata": {},
   "source": [
    "<span style=\"color:Yellow;\">\n",
    "\n",
    "### Multiclassification Definition: \n",
    "\n",
    "<span style=\"color:Violet;\">\n",
    "\n",
    "- The classification not just for two elemnt or two answers. might be more than two answer. \n",
    "- Instead of infected or not. will be very sick, normal sick, or will be healthy. \n",
    "- Instead of use 0,1 to classify will be lot of numbers (0,1,2,3,....)"
   ]
  },
  {
   "cell_type": "code",
   "execution_count": null,
   "metadata": {},
   "outputs": [],
   "source": [
    "# Blue is classifier = Ca\n",
    "# Green is classifier = Cb\n",
    "# Red is classifier = Cc\n",
    "from IPython.display import Image\n",
    "Image ('images\\MultiClassification.png')"
   ]
  },
  {
   "cell_type": "markdown",
   "metadata": {},
   "source": [
    "<span style=\"color:Yellow;\">\n",
    "\n",
    "### OVA vs AVA\n",
    "\n",
    "<span style=\"color:Violet;\">\n",
    "\n",
    "- OVA = One verses all: we sperate all the points with different lines \n",
    "\n",
    "- AVA = All Verses all: New technique"
   ]
  },
  {
   "cell_type": "code",
   "execution_count": null,
   "metadata": {},
   "outputs": [],
   "source": [
    "from IPython.display import Image\n",
    "Image ('images\\OVA.png')"
   ]
  },
  {
   "cell_type": "code",
   "execution_count": null,
   "metadata": {},
   "outputs": [],
   "source": [
    "from IPython.display import Image\n",
    "Image ('images\\AVA.png')"
   ]
  }
 ],
 "metadata": {
  "interpreter": {
   "hash": "9780809c1dcb5ebfb6c99d6eaff53e5915ef1e624894815a228c084387870e35"
  },
  "kernelspec": {
   "display_name": "Python 3.8.5 64-bit ('base': conda)",
   "name": "python3"
  },
  "language_info": {
   "codemirror_mode": {
    "name": "ipython",
    "version": 3
   },
   "file_extension": ".py",
   "mimetype": "text/x-python",
   "name": "python",
   "nbconvert_exporter": "python",
   "pygments_lexer": "ipython3",
   "version": "3.8.5"
  },
  "orig_nbformat": 4
 },
 "nbformat": 4,
 "nbformat_minor": 2
}
