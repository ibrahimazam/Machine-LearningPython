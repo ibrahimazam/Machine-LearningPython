{
 "cells": [
  {
   "cell_type": "markdown",
   "metadata": {},
   "source": [
    "<span style=\"color:Yellow;\">\n",
    "\n",
    "### Multiclassification Definition: \n",
    "\n",
    "<span style=\"color:Violet;\">\n",
    "\n",
    "- The classification not just for two elemnt or two answers. might be more than two answer. \n",
    "- Instead of infected or not. will be very sick, normal sick, or will be healthy. \n",
    "- Instead of use 0,1 to classify will be lot of numbers (0,1,2,3,....)"
   ]
  }
 ],
 "metadata": {
  "language_info": {
   "name": "python"
  },
  "orig_nbformat": 4
 },
 "nbformat": 4,
 "nbformat_minor": 2
}
