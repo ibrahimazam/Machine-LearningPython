{
 "cells": [
  {
   "cell_type": "markdown",
   "metadata": {},
   "source": [
    "<span style=\"color:Yellow;\">\n",
    "\n",
    "## Used Function \n",
    "\n",
    "<span style=\"color:MediumOrchid;\">\n",
    "\n",
    "\n",
    "- Called Cost Funcation J and the goal to achive minumum J \n",
    "- The Equation with two parts for y when equal to 0 and for y when equal to 1. \n",
    "- In simple word the function its negative sum logarthim h, and then divide with which is the features \n",
    "and then combin the two EQ\n",
    "\n",
    "******************"
   ]
  },
  {
   "cell_type": "markdown",
   "metadata": {},
   "source": [
    "<span style=\"color:Orchid;\">\n",
    "\n",
    "$\\color{LimeGreen} Cost Function:$ $\\color{Yellow} J(\\theta _{0}) = \\frac{1}{m} \\sum\\limits _{i=1} ^{m } Cost\\  (h _\\theta ({x} ^{(i)}) - y ^{(i)})$\n",
    "\n",
    "$Cost \\ (h _\\theta (x),y)) = - Log \\ (h _\\theta (x)) \\ if \\ y \\ = \\ 1$\n",
    "\n",
    "$Cost \\ (h _\\theta (x),y)) = - Log \\ (1 - h _\\theta (x)) \\ if \\ y \\ = \\ 0$\n",
    "\n",
    "- when we say log with out basis its eqaul to 10\n",
    "\n",
    "$\\color{LimeGreen} Cost Function:$ $\\color{Yellow} J(\\theta) = -\\frac{1}{m} [\\sum\\limits _{i=1} ^{m } y^{(i)} \\ log \\ h _\\theta (x^{(i)}) + (1 - y ^{(i)})log \\ (1 - h _\\theta (x^{(i)}))] $\n",
    "\n",
    "- When y equal to 0 the first part of equation will be removed. becuase all the summation with 0 will eqaul to 0 then we remove the part 1 of the equation. \n",
    "\n",
    "$\\color{LimeGreen} Cost Function:$ $\\color{Yellow} J(\\theta) = -\\frac{1}{m} (1 - y ^{(i)})log \\ (1 - h _\\theta (x^{(i)}))] $\n",
    "\n",
    "- When y equal to 1 the second part of equation will be removed. \n",
    "\n",
    "$\\color{LimeGreen} Cost Function:$ $\\color{Yellow} J(\\theta) = -\\frac{1}{m} [\\sum\\limits _{i=1} ^{m } y^{(i)} \\ log \\ h _\\theta (x^{(i)})$\n",
    "\n",
    "****************"
   ]
  },
  {
   "cell_type": "markdown",
   "metadata": {},
   "source": [
    "<span style=\"color:Yellow;\">\n",
    "\n",
    "## Find Theta\n",
    "\n",
    "<span style=\"color:MediumOrchid;\">\n",
    "\n",
    "- just in case we forgot, the theta is the x coefficient that we need to find its values to find the best fit curve. \n",
    "\n",
    "- in below equation we use to find the theta values: \n",
    "\n",
    "$\\color{red} \\theta _{j}$ \n",
    "$\\color{yellow} := \\theta _{j} - \\alpha \\sum\\limits _{i=1}^{m}(h _\\theta (x ^{(i)}) -y _{(i)}) x ^{(i)}_{j}$ \n",
    "\n",
    "- j : refer to the required theta (0,1,2,3,...) which will repeat until get all the thetas. \n",
    "\n",
    "- $\\alpha$ = refer to the learning rate \n",
    "\n",
    "- the equation after alpha is the differentiation of the complete equation. you dont have to prove it. \n",
    "\n",
    "- we put $ X _{0} \\theta _{0} X _{1} \\theta _{1},... $\n",
    "\n",
    "******************************"
   ]
  },
  {
   "cell_type": "markdown",
   "metadata": {},
   "source": [
    "<span style=\"color:Yellow;\">\n",
    "\n",
    "## Case 1 \n",
    "\n",
    "<span style=\"color:Orchid;\"> \n",
    "\n",
    "- $Cost \\ (h _\\theta (x),y)) = - Log \\ (h _\\theta (x)) \\ if \\ y \\ = \\ 1$\n",
    "- Y = 1 \n",
    "\n",
    "- when the h(x) close to 0 the J cost function will be high because its far away from the actual value which is 1. \n",
    "- And when the h close to 1 the J will be low because the actual values is 1.\n",
    "\n",
    "******************************"
   ]
  },
  {
   "cell_type": "code",
   "execution_count": null,
   "metadata": {},
   "outputs": [],
   "source": [
    "# Axis X = h(x) the predicted value \n",
    "# Axis y = J the cost function \n",
    "from IPython.display import Image\n",
    "Image ('images\\y1.png')"
   ]
  },
  {
   "cell_type": "markdown",
   "metadata": {},
   "source": [
    "<span style=\"color:Yellow;\">\n",
    "\n",
    "## Case 2\n",
    "\n",
    "<span style=\"color:Orchid;\">\n",
    "\n",
    "- Y = 0\n",
    "\n",
    "- when the h close to 0 the J will be low\n",
    "- when the h close to 1 the J will be high "
   ]
  },
  {
   "cell_type": "code",
   "execution_count": null,
   "metadata": {},
   "outputs": [],
   "source": [
    "from IPython.display import Image\n",
    "Image ('images\\y0.png')"
   ]
  },
  {
   "cell_type": "code",
   "execution_count": null,
   "metadata": {},
   "outputs": [],
   "source": [
    "import pandas as pd\n",
    "# intialise data of lists.\n",
    "# Example \n",
    "data = {'Name':['Edward', 'Dave', 'Ron', 'anamika','Chris'],\n",
    "        'Wight':[70, 88, 91, 65,79],\n",
    "        'Age':[18, 22, 38, 21,25],\n",
    "        'Blood':[1, 0, 0, 1, 1],\n",
    "       'Is Sick':[1, 1, 1, 0,0] }\n",
    "# Create DataFrame\n",
    "df = pd.DataFrame(data)\n",
    "# Print the output.\n",
    "print(df)"
   ]
  },
  {
   "cell_type": "markdown",
   "metadata": {},
   "source": [
    "- The List \n",
    "\n",
    "- List theta 4 X 1 \n",
    "\n",
    "$\\begin{bmatrix} 1 \\\\ 1 \\\\ 1 \\\\1  \\end{bmatrix}$\n",
    "\n",
    "- List y 5 X 1 \n",
    "\n",
    "$\\begin{bmatrix} 1 \\\\ 1 \\\\ 1 \\\\ 0 \\\\ 0  \\end{bmatrix}$\n",
    "\n",
    "- List of X 5X4\n",
    "\n",
    "$\\begin{bmatrix} 1 & 1 & 18 & 70 \\\\ 1& 1 & 22 & 88 & \\\\ 1 & 0 & 38 & 91 \\\\ 1 & 1 & 21 & 65 \\\\ 1& 1 & 25 &79\\end{bmatrix}$\n",
    "\n",
    "- X Trnaspose \n",
    "\n",
    "5 X 4 \n",
    "\n",
    "$\\begin{bmatrix} 1 & 1 & 1 & 1 & 1 \\\\ 1 & 0 & 0 & 1 & 1 \\\\ 18 & 22 & 38 & 21 & 25 \\\\ 70 & 88 & 91 & 65 & 79\\end{bmatrix}$\n",
    "\n",
    "- the total mulyiplication X with Theta 5 X 4 and 4 X 1 will be 5 X 1: \n",
    "\n",
    "$\\begin{bmatrix} 1 & 1 & 18 & 70 \\\\ 1& 1 & 22 & 88 & \\\\ 1 & 0 & 38 & 91 \\\\ 1 & 1 & 21 & 65 \\\\ 1& 1 & 25 &79\\end{bmatrix}$ * \n",
    "$\\begin{bmatrix} 1 \\\\ 1 \\\\ 1 \\\\ 1  \\end{bmatrix}$\n",
    "\n",
    "\n",
    "\n",
    "- substraction of Y \n",
    "\n",
    "$\\begin{bmatrix} 1 \\\\ 1 \\\\ 1 \\\\ 0 \\\\ 0  \\end{bmatrix}$ - $\\begin{bmatrix} 90 \\\\ 111 \\\\ 130 \\\\ 88 \\\\ 106  \\end{bmatrix}$ = \n",
    "$\\begin{bmatrix} 89 \\\\ 110 \\\\ 129 \\\\ 88 \\\\ 106  \\end{bmatrix}$\n"
   ]
  }
 ],
 "metadata": {
  "interpreter": {
   "hash": "9780809c1dcb5ebfb6c99d6eaff53e5915ef1e624894815a228c084387870e35"
  },
  "kernelspec": {
   "display_name": "Python 3.8.5 64-bit ('base': conda)",
   "name": "python3"
  },
  "language_info": {
   "codemirror_mode": {
    "name": "ipython",
    "version": 3
   },
   "file_extension": ".py",
   "mimetype": "text/x-python",
   "name": "python",
   "nbconvert_exporter": "python",
   "pygments_lexer": "ipython3",
   "version": "3.8.5"
  },
  "orig_nbformat": 4
 },
 "nbformat": 4,
 "nbformat_minor": 2
}
