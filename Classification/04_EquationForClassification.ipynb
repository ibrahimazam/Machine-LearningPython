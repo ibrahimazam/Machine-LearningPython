{
 "cells": [
  {
   "cell_type": "markdown",
   "metadata": {},
   "source": [
    "<span style=\"color:Yellow;\">\n",
    "\n",
    "- Called Cost Funcation J and the goal to achive minumum J \n",
    "- The Eq will be as two Eq for 1 and 0. \n",
    "- in simple word the function its negative sum logarthim h, and then divide with which is the features \n",
    "- and then combin the two EQ\n"
   ]
  },
  {
   "cell_type": "markdown",
   "metadata": {},
   "source": [
    "<span style=\"color:Yellow;\">\n",
    "\n",
    "$\\color{Red} Cost Functaion:$ $\\color{Yellow} J(\\theta _{0}) = \\frac{1}{m} \\sum\\limits _{i=1} ^{m } Cost\\  (h _\\theta ({x} (^i)) - y (^i))$\n",
    "\n",
    "$Cost \\ (h _\\theta (x),y)) = - Log \\ (h _\\theta (x)) \\ if \\ y \\ = \\ 1$\n",
    "\n",
    "$Cost \\ (h _\\theta (x),y)) = - Log \\ (1 - h _\\theta (x)) \\ if \\ y \\ = \\ 0$\n",
    "\n",
    "\n",
    "$\\color{Red} Cost Functaion:$ $\\color{Yellow} J(\\theta _{0}) = \\frac{1}{m} \\sum\\limits _{i=1} ^{m } y^{i} \\ log \\ (h _\\theta (x(^{i}) + (1 - y ^{i})Log \\ (1 - h _\\theta (x(^{i})) $"
   ]
  },
  {
   "cell_type": "markdown",
   "metadata": {},
   "source": [
    "<span style=\"color:Yellow;\">\n",
    "\n",
    "- Case 1 \n",
    "\n",
    "- Y = 1 -\n",
    "\n",
    "- when the h close to 0 the J will be high\n",
    "- when the h close to 1 the J will be low "
   ]
  },
  {
   "cell_type": "code",
   "execution_count": null,
   "metadata": {},
   "outputs": [],
   "source": [
    "from IPython.display import Image\n",
    "Image ('images\\y1.png')"
   ]
  },
  {
   "cell_type": "markdown",
   "metadata": {},
   "source": [
    "<span style=\"color:Yellow;\">\n",
    "\n",
    "- Case 2\n",
    "\n",
    "- Y = 0 -\n",
    "\n",
    "- when the h close to 0 the J will be low\n",
    "- when the h close to 1 the J will be high "
   ]
  },
  {
   "cell_type": "code",
   "execution_count": null,
   "metadata": {},
   "outputs": [],
   "source": [
    "from IPython.display import Image\n",
    "Image ('images\\y0.png')"
   ]
  },
  {
   "cell_type": "markdown",
   "metadata": {},
   "source": [
    "<span style=\"color:Yellow;\">\n",
    "\n",
    "- Numbers of m is 5 \n",
    "- nuumbers of features is 3 \n",
    "- x features \n",
    "- y is sick \n",
    "- numbers of thetas is 4 because the feature is + 1.\n",
    "- the names dose not include in the math. \n"
   ]
  },
  {
   "cell_type": "code",
   "execution_count": null,
   "metadata": {},
   "outputs": [],
   "source": [
    "import pandas as pd\n",
    "# intialise data of lists.\n",
    "# Example \n",
    "data = {'Name':['Edward', 'Dave', 'Ron', 'anamika','Chris'],\n",
    "        'Wight':[70, 88, 91, 65,79],\n",
    "        'Age':[18, 22, 38, 21,25],\n",
    "        'Blood':[1, 0, 0, 1, 1],\n",
    "       'Is Sick':[1, 1, 1, 0,0] }\n",
    "# Create DataFrame\n",
    "df = pd.DataFrame(data)\n",
    "# Print the output.\n",
    "print(df)"
   ]
  },
  {
   "cell_type": "markdown",
   "metadata": {},
   "source": [
    "- The List \n",
    "\n",
    "- List theta 4 X 1 \n",
    "\n",
    "$\\begin{bmatrix} 1 \\\\ 1 \\\\ 1 \\\\1  \\end{bmatrix}$\n",
    "\n",
    "- List y 5 X 1 \n",
    "\n",
    "$\\begin{bmatrix} 1 \\\\ 1 \\\\ 1 \\\\ 0 \\\\ 0  \\end{bmatrix}$\n",
    "\n",
    "- List of X 5X4\n",
    "\n",
    "$\\begin{bmatrix} 1 & 1 & 18 & 70 \\\\ 1& 1 & 22 & 88 & \\\\ 1 & 0 & 38 & 91 \\\\ 1 & 1 & 21 & 65 \\\\ 1& 1 & 25 &79\\end{bmatrix}$\n",
    "\n",
    "- X Trnaspose \n",
    "\n",
    "5 X 4 \n",
    "\n",
    "$\\begin{bmatrix} 1 & 1 & 1 & 1 & 1 \\\\ 1 & 0 & 0 & 1 & 1 \\\\ 18 & 22 & 38 & 21 & 25 \\\\ 70 & 88 & 91 & 65 & 79\\end{bmatrix}$\n",
    "\n",
    "- the total mulyiplication X with Theta 5 X 4 and 4 X 1 will be 5 X 1: \n",
    "\n",
    "$\\begin{bmatrix} 1 & 1 & 18 & 70 \\\\ 1& 1 & 22 & 88 & \\\\ 1 & 0 & 38 & 91 \\\\ 1 & 1 & 21 & 65 \\\\ 1& 1 & 25 &79\\end{bmatrix}$ * \n",
    "$\\begin{bmatrix} 1 \\\\ 1 \\\\ 1 \\\\ 1  \\end{bmatrix}$\n",
    "\n",
    "\n",
    "\n",
    "- substraction of Y \n",
    "\n",
    "$\\begin{bmatrix} 1 \\\\ 1 \\\\ 1 \\\\ 0 \\\\ 0  \\end{bmatrix}$ - $\\begin{bmatrix} 90 \\\\ 111 \\\\ 130 \\\\ 88 \\\\ 106  \\end{bmatrix}$ = \n",
    "$\\begin{bmatrix} 89 \\\\ 110 \\\\ 129 \\\\ 88 \\\\ 106  \\end{bmatrix}$\n"
   ]
  }
 ],
 "metadata": {
  "interpreter": {
   "hash": "9780809c1dcb5ebfb6c99d6eaff53e5915ef1e624894815a228c084387870e35"
  },
  "kernelspec": {
   "display_name": "Python 3.8.5 64-bit ('base': conda)",
   "name": "python3"
  },
  "language_info": {
   "codemirror_mode": {
    "name": "ipython",
    "version": 3
   },
   "file_extension": ".py",
   "mimetype": "text/x-python",
   "name": "python",
   "nbconvert_exporter": "python",
   "pygments_lexer": "ipython3",
   "version": "3.8.5"
  },
  "orig_nbformat": 4
 },
 "nbformat": 4,
 "nbformat_minor": 2
}
