{
 "cells": [
  {
   "cell_type": "markdown",
   "metadata": {},
   "source": [
    "<span style=\"color:Yellow;\">\n",
    "\n",
    "### Calssification and best fit line:\n",
    "<span style=\"color:MediumOrchid;\">\n",
    "\n",
    "- in prediction or regression we easly made the best fit line.\n",
    "- in classification its diffcult to make line that fit the points.\n",
    "- the algorithim will make line that sapertare the points like curve...\n",
    "<span style=\"color:MediumOrchid;\">\n",
    "\n",
    "<span style=\"color:Yellow;\">\n",
    "\n",
    "### The point is: \n",
    "\n",
    "<span style=\"color:MediumOrchid;\">\n",
    "\n",
    "- the h(x) should be between 0 and 1 and it couldn't be bigger than 1 and small than 0. \n",
    "- that happened by function called sigmoid.(its not math Eq it just called the below eq). \n",
    "\n",
    "- the theta is the coffectnt of X \n",
    "\n",
    "$ h _\\theta (x) = \\frac{1}{1 + e ^{-\\theta ^{T}x}}$\n",
    "\n",
    "- The machine learning scince found the best thing to put in the EQ is - Theta Transpose (Column to row ) the X is the input\n",
    "\n",
    "$\\begin{bmatrix} 5 \\\\ 3  \\end{bmatrix}$ $\\begin{bmatrix} 2 \\\\ 7  \\end{bmatrix}$\n",
    "\n",
    "<span style=\"color:Yellow;\">\n",
    "\n",
    "- Tranaspose \n",
    "\n",
    "<span style=\"color:MediumOrchid;\">\n",
    "\n",
    "$\\begin{bmatrix} 5 & 3  \\end{bmatrix}$ $\\begin{bmatrix} 2 \\\\ 7  \\end{bmatrix}$\n",
    "\n",
    "\n",
    "\n",
    "- 5 X 2 = 10 \n",
    "\n",
    "- 3 X 7 = 21 \n",
    "\n",
    "- X = 31\n",
    "\n",
    "$e ^{-31}$ = $\\frac{1}{e^{31}}$ = = -0.03535853\n",
    "\n",
    "$h _\\theta (x)$  $ = \\frac{1}{1+e - ^{31}}$  = $\\frac{1}{1+0.03535853}$ = 1\n",
    "\n",
    "h(x) =  1\n",
    "\n",
    "2.71831 = 28955630385913\n",
    "\n",
    "\n",
    "\n",
    "$-\\Theta ^{T}x$ when is lower the h will Lower to zero\n",
    "\n",
    "$-\\Theta ^{T}x$ when is higher will h will close to one\n",
    "\n",
    "\n",
    "<span style=\"color:Yellow;\">\n",
    "\n",
    "- Sigmiod: \n",
    "\n",
    "<span style=\"color:MediumOrchid;\">\n",
    "\n",
    "- The h values which is the predicted values will be between 0,1 and that what makes the classification.\n",
    "- if there some values between 0-1 (0.7) will take into account as 1 or in Probabilty techniq "
   ]
  },
  {
   "cell_type": "code",
   "execution_count": null,
   "metadata": {},
   "outputs": [],
   "source": [
    "from IPython.display import Image\n",
    "Image ('images\\sigmoedFunctionli.png')"
   ]
  },
  {
   "cell_type": "markdown",
   "metadata": {},
   "source": [
    "<span style=\"color:Yellow;\">\n",
    "\n",
    "- Sigmiod: \n",
    "\n",
    "<span style=\"color:MediumOrchid;\">\n",
    "\n",
    "- When the value of X is negative, the e become with postive power, subsequently the value increase. and the h become small value. \n",
    "- any fraction in math when the denominator is high, the fraction value should be small. \n",
    "- when the X value is negative like -1000. the e power will be huge positve number then the h will equal to 0. \n",
    "*******************************************************\n",
    "\n",
    "- When the value of X is Positive, the e become with negtaive power, subsequently the value decrease. and the h become high value. \n",
    "- any fraction in math when the denominator is small, the fraction value should be high. \n",
    "- when the X value is positive like 1000. the e power will be small positve number then the h will equal to 1. \n",
    " "
   ]
  },
  {
   "cell_type": "markdown",
   "metadata": {},
   "source": [
    "<span style=\"color:Yellow;\">\n",
    "\n",
    "$ h _\\theta (x) = \\frac{1}{1 + e ^{-\\theta ^{T}x}}$\n",
    "\n",
    "- Example negative number: \n",
    "\n",
    "$\\theta=$ $\\begin{bmatrix} 5 \\\\ 3\\end {bmatrix}$\n",
    "\n",
    "$\\theta= Transpose $ $\\begin{bmatrix} 5 & 3\\end {bmatrix}$\n",
    "\n",
    "x = $\\theta=$ $\\begin{bmatrix} 2 \\\\ 7\\end {bmatrix}$\n",
    "\n",
    "5* 2 = 10 \n",
    "\n",
    "3* 7 = 21 \n",
    "\n",
    "x = 31\n",
    "\n",
    "X = -8 \n",
    "\n",
    "$ h _\\theta (x) = \\frac{1}{1 + e ^{--8}}$\n",
    "\n",
    "- (-,-) in math is poisitve\n",
    "\n",
    "$ h _\\theta (x) = \\frac{1}{1 + e ^{8}}$\n",
    "\n",
    "$ h _\\theta (x) = \\frac{1}{2.718 ^{8}}$ = 2978.4863846013386\n",
    "\n",
    "$ h _\\theta (x) = \\frac{1}{1 + 2978.4863846013386}$ = 0.000335741\n",
    "\n",
    "<span style=\"color:Red;\">\n",
    "\n",
    "- Example Positive number: closed to 0 \n",
    "\n",
    "$ h _\\theta (x) = \\frac{1}{1 + e ^{-\\theta ^{T}x}}$\n",
    "\n",
    "X = 8 \n",
    "\n",
    "e = 2.718\n",
    "\n",
    "$ h _\\theta (x) = \\frac{1}{1 + e ^{-8}}$\n",
    "\n",
    "$e^{-8}$ = $\\frac{1}{e^{8}}= \\frac{1}{2.718^{8}} = \\frac{1}{2978.38638460} = 0.000335752$\n",
    "\n",
    "- When the x high number we will see that the the h(x) will close t 0 \n",
    "\n",
    "$\\frac{1}{95000}= 0.00010526315789473685$\n",
    "\n",
    "- When the x small number we will see that the the h(x) will close t 1 \n",
    "\n",
    "$\\frac{1}{950}= 0.0010526315789473684$\n"
   ]
  },
  {
   "cell_type": "code",
   "execution_count": 32,
   "metadata": {},
   "outputs": [
    {
     "name": "stdout",
     "output_type": "stream",
     "text": [
      "0.00010526315789473685\n",
      "0.0010526315789473684\n"
     ]
    }
   ],
   "source": [
    "print(1/9500)\n",
    "\n",
    "print(1/950)"
   ]
  },
  {
   "cell_type": "code",
   "execution_count": 42,
   "metadata": {},
   "outputs": [
    {
     "data": {
      "text/plain": [
       "0.9996646498695336"
      ]
     },
     "execution_count": 42,
     "metadata": {},
     "output_type": "execute_result"
    }
   ],
   "source": [
    "# Sigmid function \n",
    "import math\n",
    "def sigmoid(x):\n",
    "  return 1 / (1 + math.exp(-x))\n",
    "sigmoid(8)"
   ]
  },
  {
   "cell_type": "code",
   "execution_count": 19,
   "metadata": {},
   "outputs": [
    {
     "name": "stdout",
     "output_type": "stream",
     "text": [
      "2978.4863846013386\n"
     ]
    }
   ],
   "source": [
    "#print(pow(2.718, -8))\n",
    "print (1/0.0003357410009224692)"
   ]
  },
  {
   "cell_type": "code",
   "execution_count": null,
   "metadata": {},
   "outputs": [],
   "source": [
    "#import section\n",
    "from matplotlib import pylab\n",
    "import pylab as plt\n",
    "import numpy as np\n",
    "#sigmoid = lambda x: 1 / (1 + np.exp(-x))\n",
    "def sigmoid(x):\n",
    "    return (1 / (1 + np.exp(-x)))\n",
    "mySamples = []\n",
    "mySigmoid = []\n",
    "# generate an Array with value ???\n",
    "# linespace generate an array from start and stop value\n",
    "# with requested number of elements. Example 10 elements or 100 elements.\n",
    "# \n",
    "x = plt.linspace(-10,10,10)\n",
    "y = plt.linspace(-10,10,100)\n",
    "# prepare the plot, associate the color r(ed) or b(lue) and the label \n",
    "plt.plot(x, sigmoid(x), 'r', label='linspace(-10,10,10)')\n",
    "plt.plot(y, sigmoid(y), 'b', label='linspace(-10,10,100)')\n",
    "# Draw the grid line in background.\n",
    "plt.grid()\n",
    "# Title & Subtitle\n",
    "plt.title('Sigmoid Function')\n",
    "plt.suptitle('Sigmoid')\n",
    "# place the legen boc in bottom right of the graph\n",
    "plt.legend(loc='lower right')\n",
    "# write the Sigmoid formula\n",
    "plt.text(4, 0.8, r'$h _\\theta(x)=\\frac{1}{1+e^{-x}}$', fontsize=15)\n",
    "#resize the X and Y axes\n",
    "plt.gca().xaxis.set_major_locator(plt.MultipleLocator(1))\n",
    "plt.gca().yaxis.set_major_locator(plt.MultipleLocator(0.1))\n",
    "# plt.plot(x)\n",
    "plt.xlabel('X Axis')\n",
    "plt.ylabel('Y Axis')\n",
    "# create the graph\n",
    "plt.show()"
   ]
  },
  {
   "cell_type": "markdown",
   "metadata": {},
   "source": [
    "<span style=\"color:Yellow;\">\n",
    "\n",
    "- Example: \n",
    "\n",
    "- we have some products and we need to classify the products into two groups the blue is ok and the red is bad product. \n",
    "\n",
    "- the equation h which is the predicted value, it will be first degree. and its go to depend on X1,X2 and three thetas needed. \n",
    "\n",
    "$h_\\theta(x) = g (\\theta _{0} +\\theta _{1}{x _{1}} +\\theta _{2} {x _{2}})$\n",
    "\n",
    "- we will assume theta 0 = -3 and theta 1 = 1 and theta 2 = 1 \n",
    "\n",
    "$-3 + x_{1} + x _{2}\\geq$ 0 $"
   ]
  }
 ],
 "metadata": {
  "interpreter": {
   "hash": "9780809c1dcb5ebfb6c99d6eaff53e5915ef1e624894815a228c084387870e35"
  },
  "kernelspec": {
   "display_name": "Python 3.8.5 64-bit ('base': conda)",
   "name": "python3"
  },
  "language_info": {
   "codemirror_mode": {
    "name": "ipython",
    "version": 3
   },
   "file_extension": ".py",
   "mimetype": "text/x-python",
   "name": "python",
   "nbconvert_exporter": "python",
   "pygments_lexer": "ipython3",
   "version": "3.8.5"
  },
  "orig_nbformat": 4
 },
 "nbformat": 4,
 "nbformat_minor": 2
}
