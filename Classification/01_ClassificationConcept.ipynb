{
 "cells": [
  {
   "cell_type": "markdown",
   "metadata": {},
   "source": [
    "<span style=\"color:Yellow;\">\n",
    "\n",
    "### Classification Concept:\n",
    "\n",
    "<span style=\"color:Violet;\">\n",
    "\n",
    "- Classify groups of feature to set of groups.\n",
    "- Classify Similar groups. \n",
    "- Some time we called it Classification or Logistic Regresison. (Old Name)\n",
    "- Type if Suprervised Learning.\n",
    "- Most of models might be two classification. \n",
    "\n",
    "\n",
    "<img src=\"images\\classification.png\" width=\"400\" height=\"200\">\n"
   ]
  }
 ],
 "metadata": {
  "interpreter": {
   "hash": "9780809c1dcb5ebfb6c99d6eaff53e5915ef1e624894815a228c084387870e35"
  },
  "kernelspec": {
   "display_name": "Python 3.8.5 64-bit ('base': conda)",
   "name": "python3"
  },
  "language_info": {
   "codemirror_mode": {
    "name": "ipython",
    "version": 3
   },
   "file_extension": ".py",
   "mimetype": "text/x-python",
   "name": "python",
   "nbconvert_exporter": "python",
   "pygments_lexer": "ipython3",
   "version": "3.8.5"
  },
  "orig_nbformat": 4
 },
 "nbformat": 4,
 "nbformat_minor": 2
}
